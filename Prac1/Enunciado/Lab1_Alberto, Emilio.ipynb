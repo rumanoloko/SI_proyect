{
 "cells": [
  {
   "cell_type": "markdown",
   "metadata": {},
   "source": [
    "# Sistemas Inteligentes\n",
    "\n",
    "## Curso académico 2024-2025\n",
    "\n",
    "### Práctica 1: Búsqueda en espacio de estados\n",
    "\n",
    "#### Profesores\n",
    "\n",
    "* Juan Carlos Alfaro Jiménez: JuanCarlos.Alfaro@uclm.es\n",
    "* María Julia Flores Gallego: Julia.Flores@uclm.es\n",
    "* Ismael García Varea: Ismael.Garcia@uclm.es\n",
    "* Adrián Rodríguez López: Adrian.Rodriguez18@alu.uclm.es"
   ]
  },
  {
   "cell_type": "markdown",
   "metadata": {
    "datalore": {
     "hide_input_from_viewers": false,
     "hide_output_from_viewers": false,
     "node_id": "BJiz7lonyeROocVlcYrKWu",
     "type": "MD"
    }
   },
   "source": [
    "## ¡Conducción autónoma!"
   ]
  },
  {
   "cell_type": "markdown",
   "metadata": {
    "datalore": {
     "hide_input_from_viewers": false,
     "hide_output_from_viewers": false,
     "node_id": "BJiz7lonyeROocVlcYrKWu",
     "type": "MD"
    }
   },
   "source": [
    "## 1. Introducción\n",
    "\n",
    "En el marco de un proyecto piloto del **Ministerio de Transportes y Movilidad Sostenible**, cuyo objetivo es proporcionar un servicio de desplazamiento urbano personalizado para personas con movilidad reducida, se nos ha encargado el estudio del despliegue de una flota de vehículos autónomos en diferentes localidades y ciudades del país en función de una serie de indicadores (tamaño de la población, densidad de población, demanda del servicio, etc.). Dichos vehículos autónomos deberán disponer de un sistema de conducción inteligente que permita a dichos vehículos llevar a una serie de personas desde un punto de origen hasta su destino de manera segura y eficiente.\n",
    "\n",
    "Dentro del proyecto, **por el momento, se nos pide diseñar un algoritmo que sea capaz de optimizar el transporte a una persona desde un lugar de origen a un destino específico** dentro de una ciudad. En este escenario, el vehículo autónomo deberá navegar por una red de calles e intersecciones urbanas, donde todas las rutas son potencialmente válidas. Sin embargo, **el sistema debe optimizar la selección del camino** no solo para encontrar una ruta válida, sino también para **minimizar el tiempo de recorrido**. Esto implica que la inteligencia artificial debe considerar factores como la distancia, la velocidad permitida en cada calle y cualquier otro factor relevante que pueda afectar al tiempo total del trayecto."
   ]
  },
  {
   "cell_type": "markdown",
   "metadata": {},
   "source": [
    "### 1.1. Objetivos de la práctica\n",
    "\n",
    "* Implementar las estrategias de búsqueda no informada **primero en anchura** y **primero en profundidad** para encontrar un camino desde el punto de partida hasta un lugar de destino.\n",
    "\n",
    "* Implementar las estrategias de búsqueda informada **primero mejor** y **A\\*** utilizando heurísticas apropiadas para resolver el problema en cuestión.\n",
    "\n",
    "En este trabajo pondremos en práctica las técnicas de búsqueda en estado de espacios. Para ello, se implementarán y utilizarán algunos de los algoritmos vistos en los temas dos y tres para resolver un problema clásico, esto es, buscar rutas en un grafo.\n",
    "\n",
    "También analizaremos y compararemos el rendimiento de los algoritmos ejecutándolos en diferentes instancias del problema y proporcionando distintos estados inicial y objetivo.\n",
    "\n",
    "Esperamos que esta práctica os ayude a profundizar en vuestra comprensión de las estrategias de búsqueda en inteligencia artificial y os anime a pensar en cómo se pueden aplicar estas técnicas en situaciones del mundo real para ayudar en operaciones de navegación y otras tareas críticas.\n",
    "\n",
    "**¡Buena suerte!**"
   ]
  },
  {
   "cell_type": "markdown",
   "metadata": {
    "datalore": {
     "hide_input_from_viewers": false,
     "hide_output_from_viewers": false,
     "node_id": "kf129lUYKXkYfl7kIPcDlq",
     "type": "MD"
    }
   },
   "source": [
    "## 2. Descripción del problema\n",
    "\n",
    "Deberéis resolver un problema en el que un vehículo autónomo debe encontrar la ruta más rápida entre dos intersecciones cualesquiera en una ciudad. El espacio de búsqueda está definido por un sistema vial urbano donde el vehículo puede moverse en varias direcciones para alcanzar su destino.\n",
    "\n",
    "Más formalmente, el problema se puede definir como:\n",
    "\n",
    "* Estado inicial: Un punto de partida que representa la intersección inicial del vehículo.\n",
    "* Estados: Todas las intersecciones de la ciudad son válidas para el tránsito y pueden ser visitadas por el vehículo.\n",
    "* Estado final: Llegar a la intersección de destino.\n",
    "* Acciones: Moverse de una intersección a otra a través de las calles de la ciudad."
   ]
  },
  {
   "cell_type": "markdown",
   "metadata": {},
   "source": [
    "### 2.1. Ejemplo ilustrativo:\n",
    "\n",
    "Un posible ejemplo de este problema podría ser el que se muestra en la siguiente imagen, que muestra una parte de la ciudad de Albacete:\n",
    "\n",
    "![title](figures/small/paseo_simón_abril_250_1.png)\n",
    "\n",
    "En este caso, el objetivo sería ir de la intersección con identificador `621983933`, representada en color verde; a la intersección con identificador `1322977378`, representada en color azul.\n",
    "\n",
    "---\n",
    "\n",
    "##### Nota:\n",
    "\n",
    "* El archivo de contiene la imagen debe guardarse en la ruta indicada en el código de esta celda.\n",
    "\n",
    "---"
   ]
  },
  {
   "cell_type": "markdown",
   "metadata": {
    "datalore": {
     "hide_input_from_viewers": false,
     "hide_output_from_viewers": false,
     "node_id": "6gYL6VoT3okFgLpKvyyAq7",
     "type": "MD"
    }
   },
   "source": [
    "## 3. Desarrollo de la práctica\n",
    "\n",
    "Durante el desarrollo de la práctica, se hará entrega un conjunto de instancias de problemas. La dimensionalidad será variable, y los algoritmos implementados deberán ser lo suficientemente eficientes para funcionar correctamente con todas las instancias proporcionadas. En la evaluación de la práctica se realizará con escenarios diferentes a los proporcionados, generados de forma automática y de diferente dimensionalidad."
   ]
  },
  {
   "cell_type": "markdown",
   "metadata": {},
   "source": [
    "### 3.1 Problemas de entrada\n",
    "\n",
    "Cada escenario vendrá dado en un archivo en formato `json` que contiene la siguiente información, siguiendo el formato de un diccionario cuyas claves son:\n",
    "\n",
    "* `address`: Dirección utilizada\n",
    "* `distance`: Radio máximo utilizado para sacar las intersecciones y segmentos alrededor de la dirección\n",
    "* `intersections`: Lista de diccionarios con la información de las intersecciones\n",
    "* `segments`: Lista de diccionarios con la información de los segmentos, esto es, calles entre dos intersecciones\n",
    "* `initial`: Intersección inicial\n",
    "* `final`: Intersección final\n",
    "\n",
    "En cada diccionario en `intersections`, hay tres claves:\n",
    "\n",
    "* `identifier`: Identificador de la intersección\n",
    "* `longitude`: Longitud de la intersección\n",
    "* `latitude`: Latitud de la intersección\n",
    "\n",
    "En cada diccionario en `segments`, hay cuatro claves:\n",
    "\n",
    "* `origin`: Intersección origen\n",
    "* `destination`: Intersección destino\n",
    "* `distance`: Distancia entre las dos intersecciones\n",
    "* `speed`: Velocidad máxima permitida entre las dos intersecciones"
   ]
  },
  {
   "cell_type": "markdown",
   "metadata": {
    "datalore": {
     "hide_input_from_viewers": false,
     "hide_output_from_viewers": false,
     "node_id": "XqiqZwKKFJXYVAdvmfoLoK",
     "type": "MD"
    }
   },
   "source": [
    "## 4. Plan de trabajo"
   ]
  },
  {
   "cell_type": "markdown",
   "metadata": {},
   "source": [
    "### 4.1. Tareas a realizar\n",
    "\n",
    "* Diseño del espacio de estados:\n",
    "    * Describir cómo se representará el espacio de estados, las acciones y el coste de las acciones.\n",
    "\n",
    "\n",
    "* Implementación de estrategias de búsqueda:\n",
    "    * Implementar al menos dos estrategias de búsqueda no informada.\n",
    "    * Implementar al menos dos estrategias de búsqueda informada, utilizando heurísticas adecuadas para encontrar rutas óptimas.\n",
    "\n",
    "\n",
    "* Experimentación y análisis:\n",
    "    * Analizar el rendimiento de las estrategias implementadas en términos de optimización de tiempo, espacio y rutas.\n",
    "    * Comparar y contrastar los resultados obtenidos de las diferentes estrategias de búsqueda.\n",
    "\n",
    "\n",
    "* Informe:\n",
    "    * Redactar un informe detallando el proceso seguido, las estrategias implementadas y los resultados obtenidos.\n",
    "\n",
    "\n",
    "A continuación se proporcionan más detalles de cada tarea."
   ]
  },
  {
   "cell_type": "markdown",
   "metadata": {},
   "source": [
    "### 4.2. Evaluación de la práctica\n",
    "\n",
    "La evaluación de la práctica se realizará mediante un examen individual en la que tendrá en cuenta:\n",
    "\n",
    "* La correcta implementación de las estrategias de búsqueda: 50%\n",
    "* El diseño del espacio de estados y heurísticas: 25%\n",
    "* La experimentación realizada y el análisis de resultados: 25%\n",
    "\n",
    "Todo ello ponderado por nivel de conocimiento que el estudiante ofrezca de la práctica en caso de que el examen sea una entrevista personal."
   ]
  },
  {
   "cell_type": "markdown",
   "metadata": {},
   "source": [
    "### 4.3. Fechas\n",
    "\n",
    "* Fecha límite para enviar el código: **31 de octubre de 2024**\n",
    "* Plazo de presentación del informe: **Final del cuatrimestre**"
   ]
  },
  {
   "cell_type": "markdown",
   "metadata": {},
   "source": [
    "### 4.4. Formalización del problema y ejemplos\n",
    "\n",
    "En primer lugar, la búsqueda de rutas en una ciudad debe formalizarse como un problema de búsqueda en espacio de estados, definiendo sus elementos básicos. Todas las implementaciones deben hacer referencia a la búsqueda en grafos, por lo que es importante tener en cuenta que se deben controlar los estados repetidos."
   ]
  },
  {
   "cell_type": "markdown",
   "metadata": {},
   "source": [
    "### 4.5. Implementación\n",
    "\n",
    "La implementación deberá realizarse en lenguaje `Python`. Para ello deberéis codificar vuestra propia estructura de clases para la formalización del problema y, posteriormente, implementar los algoritmos estudiados en las clases de teoría para resolver el problema de búsqueda planteado. Recomendamos crear una clase por cada entidad que define un problema de búsqueda, a saber, estado, acción, nodo, problema, búsqueda, etc.\n",
    "\n",
    "**Se recomienda probar cada una de las clases creadas tras su implementación para comprobar su correcto funcionamiento antes de integrarlas en el resto del código.**\n",
    "\n",
    "---\n",
    "\n",
    "##### Notas:\n",
    "\n",
    "* El orden de las acciones viene determinado por el estado destino cuyo identificador sea menor, es decir en caso de que en un punto dado (intersección) se puedan alcanzar diferentes destinos (parciales) se visitarán siguiendo un orden numérico creciente. Lo mismo aplica en caso de empate en los algoritmos de búsqueda informados.\n",
    "\n",
    "---"
   ]
  },
  {
   "cell_type": "markdown",
   "metadata": {
    "datalore": {
     "hide_input_from_viewers": false,
     "hide_output_from_viewers": false,
     "node_id": "6q3uoKPoKLFZnX2wHpx2mu",
     "type": "MD"
    }
   },
   "source": [
    "### 4.6. Estudio y mejora de los algoritmos\n",
    "\n",
    "Una vez implementados los algoritmos, se deberá realizar un estudio su rendimiento. Para ello, se deberá comparar la calidad de las soluciones obtenidas, así como el número de nodos expandidos para instancias de diferentes tamaños. Factores como el tamaño máximo de problema que se puede resolver sin que haya desbordamiento de memoria, o el efecto de utilizar escenarios más complejos, también son importantes. Además, se pueden proponer implementaciones alternativas que aumenten la eficiencia de los algoritmos."
   ]
  },
  {
   "cell_type": "markdown",
   "metadata": {
    "datalore": {
     "hide_input_from_viewers": false,
     "hide_output_from_viewers": false,
     "node_id": "TN8nQpEQOYIQynu67Jy1ln",
     "type": "MD"
    }
   },
   "source": [
    "### 4.7. Informe\n",
    "\n",
    "Además del cuaderno que contiene la implementación, el trabajo consiste en elaborar un informe, que tendrá una fecha de entrega posterior, pero que recomendamos que se realice a la vez que se desarrolle la práctica, tanto para el código como para la parte de estudio y mejora de los algoritmos.\n",
    "\n",
    "En particular, entre otros temas que se consideren de interés mencionar, en informe deberá incluir como mínimo:\n",
    "\n",
    "* Una breve descripción del problema, una descripción de la implementación, la evaluación del rendimiento y la descripción de las mejoras, si existen.\n",
    "\n",
    "* La formalización del problema.\n",
    "\n",
    "* Para algoritmos de búsqueda informados se deben proporcionar al menos dos heurísticas. Además de su descripción y motivación, se deberá incluir un análisis que indique si la heurística propuesta se considera admisible y consistente.\n",
    "\n",
    "* El estudio del rendimiento de los algoritmos implementados debe basarse en probar los algoritmos en varias instancias, presentando tablas o gráficos que resuman los resultados.\n",
    "\n",
    "**El informe no debe incluir figuras con código fuente**, a menos que sea necesario para explicar algún concepto clave como estructuras de datos, mejoras en eficiencia, etc. En tales casos, se permite incluir pseudocódigo con el formato adecuado.\n",
    "\n",
    "**Tampoco es recomendable incluir capturas de pantalla**."
   ]
  },
  {
   "cell_type": "markdown",
   "metadata": {
    "datalore": {
     "hide_input_from_viewers": false,
     "hide_output_from_viewers": false,
     "node_id": "Tinwe1v9Wx9ZaC9NcMPB1a",
     "type": "MD"
    }
   },
   "source": [
    "## 5. Presentación y evaluación\n",
    "\n",
    "Es muy recomendable realizar el trabajo por parejas, aunque se puede realizar de forma individual. El examen o entrevistas para la evaluación se realizarán la semana siguiente a la entrefa, y siempre de forma individual.\n",
    "\n",
    "Algunas consideraciones relacionadas con la evaluación:\n",
    "\n",
    "* Esta práctica cuenta un 40% de la nota de laboratorio. La segunda práctica necesitará la resolución previa de esta parte y cuenta un 60%.\n",
    "\n",
    "* La asistencia a las prácticas no es obligatoria, pero será la mejor base para resolver con éxito las prácticas.\n",
    "\n",
    "* Recordad que las dudas y preguntas sobre las prácticas de laboratorio deben resolverse principalmente en las sesiones de laboratorio.\n",
    "\n",
    "* Proporcionaremos un conjunto de casos de prueba preliminares que deben resolverse correctamente. En caso contrario, el trabajo se considerará no apto para su presentación.\n",
    "\n",
    "* Para obtener una puntuación en el práctica tendrás que responder, de forma individual, a una serie de preguntas sobre la organización del código y sobre cuestiones relacionadas.\n",
    "\n",
    "* **En la evaluación no continua se requerirá la implementación de las mismas estrategias de búsqueda más**:\n",
    "    * Búsqueda en profundidad limitada\n",
    "    * Búsqueda en profundidad iterativa\n",
    "    \n",
    "    ***También se pueden requerir características adicionales**."
   ]
  },
  {
   "cell_type": "markdown",
   "metadata": {},
   "source": [
    "## 6. Solución\n",
    "\n",
    "### 1.- Librerias utilizadas\n",
    "\n",
    "* **import json** Para leer el archivo .json con los datos del mapa.\n",
    "* **from collections import deque** Se utiliza en la búsqueda por anchura. deque permite operaciones de cola (FIFO).\n",
    "* **import heapq** Para implementar colas de prioridad. Se usa en los algoritmos de Greedy y A*.\n",
    "* **import time** Permite medir el tiempo que tarda cada algoritmo en ejecutarse.\n",
    "* **from math import sqrt** Proporciona la función raíz cuadrada. Se usa en la heurística.\n",
    "* **from geopy.distance import geodesic** Calcula la distancia real en metros entre dos coordenadas geográficas. Se usa como heurística en Greedy y A*.\n"
   ]
  },
  {
   "cell_type": "code",
   "metadata": {
    "ExecuteTime": {
     "end_time": "2025-07-05T23:12:21.037693Z",
     "start_time": "2025-07-05T23:12:20.502859Z"
    }
   },
   "source": [
    "import json\n",
    "from collections import deque\n",
    "import heapq\n",
    "import time\n",
    "from geopy.distance import geodesic\n",
    "from abc import ABC, abstractmethod"
   ],
   "outputs": [],
   "execution_count": 1
  },
  {
   "cell_type": "markdown",
   "metadata": {},
   "source": [
    "### 2.- Clases "
   ]
  },
  {
   "cell_type": "markdown",
   "metadata": {},
   "source": [
    "#### **2.1.- Estado**\n",
    "Esta clase representa una intersección o punto en el mapa. Contiene:\n",
    "\n",
    "* id: un identificador único\n",
    "\n",
    "* latitud y longitud: coordenadas geográficas\n",
    "**Se usa para saber dónde está.**\n",
    "\n",
    "* __eq__ Sirve para comparar dos objetos Estado. Devuelve True si tienen el mismo id. Se usa para comprobar si un estado ya ha sido visitado o si es el objetivo.\n",
    "\n",
    "* __hash__ Permite usar objetos estado en estructuras como set o como claves en diccionarios.\n",
    "\n",
    "* __repr__ Define cómo se muestra un objeto Estado al imprimirlo.\n"
   ]
  },
  {
   "cell_type": "code",
   "metadata": {
    "ExecuteTime": {
     "end_time": "2025-07-05T23:12:21.050764Z",
     "start_time": "2025-07-05T23:12:21.042256Z"
    }
   },
   "source": [
    "class Estado:\n",
    "    def __init__(self, identificador, latitud, longitud):\n",
    "        self.id = identificador\n",
    "        self.latitud = latitud\n",
    "        self.longitud = longitud\n",
    "\n",
    "    def __eq__(self, otro):\n",
    "        return isinstance(otro, Estado) and self.id == otro.id\n",
    "\n",
    "    def __hash__(self):\n",
    "        return hash(self.id)\n",
    "\n",
    "    def __repr__(self):\n",
    "        return f\"Estado({self.id})\""
   ],
   "outputs": [],
   "execution_count": 2
  },
  {
   "cell_type": "markdown",
   "metadata": {},
   "source": [
    "#### **2.2.- Acción**\n",
    "\n",
    "Esta clase representa un movimiento de un estado a otro elegido por el agente. Contiene:\n",
    "\n",
    "* origen y destino: Estados conectados\n",
    "\n",
    "* distancia: en metros\n",
    "\n",
    "* velocidad_kmh: se convierte a m/s\n",
    "\n",
    "* **coste()**: tiempo en segundos (distancia / velocidad)\n",
    "Se usa para saber cómo moverse y cuánto cuesta.\n",
    "\n",
    "* __repr__ Esto se usa para mostrar de forma clara los pasos de la solución, por ejemplo: 772970904 → 1529724436 (13.855320)"
   ]
  },
  {
   "cell_type": "code",
   "metadata": {
    "ExecuteTime": {
     "end_time": "2025-07-05T23:12:21.372392Z",
     "start_time": "2025-07-05T23:12:21.364480Z"
    }
   },
   "source": [
    "class Accion:\n",
    "    def __init__(self, origen, destino, distancia, velocidad_kmh):\n",
    "        self.origen = origen\n",
    "        self.destino = destino\n",
    "        self.distancia = distancia\n",
    "        self.velocidad = velocidad_kmh / 3.6  # Convertir km/h a m/s\n",
    "\n",
    "    def coste(self):\n",
    "        return self.distancia / self.velocidad\n",
    "\n",
    "    def __repr__(self):\n",
    "        return f\"{self.origen.id} → {self.destino.id} ({self.coste():.6f})\"\n"
   ],
   "outputs": [],
   "execution_count": 3
  },
  {
   "cell_type": "markdown",
   "metadata": {},
   "source": [
    "### **2.3.- Nodo**\n",
    "Esta clase representa un nodo en el arbol de busqueda. Contiene:\n",
    "\n",
    "* estado: el lugar en el que está\n",
    "\n",
    "* padre: de dónde viene\n",
    "\n",
    "* accion: cómo llegó\n",
    "\n",
    "* coste: coste acumulado\n",
    "\n",
    "* profundidad: profundidad de cada nodo\n",
    "\n",
    "* ruta(): reconstruye el camino completo desde el inicio\n",
    "**Se usa para formar los caminos.**\n"
   ]
  },
  {
   "cell_type": "code",
   "metadata": {
    "ExecuteTime": {
     "end_time": "2025-07-05T23:12:21.418450Z",
     "start_time": "2025-07-05T23:12:21.406608Z"
    }
   },
   "source": [
    "class Nodo:\n",
    "    def __init__(self, estado, padre=None, accion=None, coste=0.0):\n",
    "        self.estado = estado\n",
    "        self.padre = padre\n",
    "        self.accion = accion\n",
    "        self.coste = coste\n",
    "        self.profundidad = padre.profundidad + 1 if padre else 0  \n",
    "\n",
    "    def ruta(self):\n",
    "        nodo, camino = self, []\n",
    "        while nodo:\n",
    "            camino.append(nodo)\n",
    "            nodo = nodo.padre\n",
    "        camino.reverse()\n",
    "        return camino\n",
    "    \n",
    "    def __lt__(self, other):\n",
    "        return self.coste < other.coste\n",
    "\n"
   ],
   "outputs": [],
   "execution_count": 4
  },
  {
   "cell_type": "markdown",
   "metadata": {},
   "source": [
    "### 2.4.- Problema\n",
    "En esta clase se define el problema inicial, el cual se pasa en un json que leeremos mas adelante en la parte de **Carga y Ejecución**. Contiene:\n",
    "\n",
    "* inicial, objetivo: nodos de inicio y final\n",
    "\n",
    "* estados y acciones: mapa completo\n",
    "\n",
    "* sucesores(): devuelve todas las acciones posibles desde un estado\n",
    "**Se usa como entrada para todos los algoritmos.**\n"
   ]
  },
  {
   "cell_type": "code",
   "metadata": {
    "ExecuteTime": {
     "end_time": "2025-07-05T23:12:21.431081Z",
     "start_time": "2025-07-05T23:12:21.424981Z"
    }
   },
   "source": [
    "class Problema:\n",
    "    def __init__(self, estado_inicial, estado_objetivo, mapa_estados, mapa_acciones):\n",
    "        self.inicial = estado_inicial\n",
    "        self.objetivo = estado_objetivo\n",
    "        self.estados = mapa_estados\n",
    "        self.acciones = mapa_acciones\n",
    "\n",
    "    def es_objetivo(self, estado):\n",
    "        return estado == self.objetivo\n",
    "\n",
    "    def sucesores(self, estado):\n",
    "        return self.acciones.get(estado.id, [])"
   ],
   "outputs": [],
   "execution_count": 5
  },
  {
   "cell_type": "markdown",
   "metadata": {},
   "source": [
    "### 2.5 Busqueda\n",
    "Esta es la clase más importante, contiene el algoritmo general para buscar una solución. Esta clase se encarga de:\n",
    "\n",
    "* Crear el nodo inicial con el estado de partida.\n",
    "\n",
    "* Ejecutar un bucle donde va sacando nodos de la frontera.\n",
    "\n",
    "* Comprobar si el nodo actual es el objetivo.\n",
    "\n",
    "* Si no lo es, genera los sucesores y los añade a la frontera.\n",
    "\n",
    "* Guarda el número de nodos generados, expandidos y la solución.\n",
    "\n",
    "Cada algoritmo hereda de esta clase y solo cambia cómo inserta y saca nodos de la frontera, según su estrategia"
   ]
  },
  {
   "cell_type": "code",
   "metadata": {
    "ExecuteTime": {
     "end_time": "2025-07-05T23:12:21.454074Z",
     "start_time": "2025-07-05T23:12:21.443071Z"
    }
   },
   "source": [
    "class Busqueda(ABC):\n",
    "    def __init__(self, problema):\n",
    "        self.problema = problema\n",
    "        self.nodos_expandidos = 0\n",
    "        self.nodos_generados = 0\n",
    "        self.ruta_solucion = None\n",
    "        self.frontera = self.crear_frontera()\n",
    "        self.contador = 0  # para A* y Primero el Mejor\n",
    "\n",
    "    @abstractmethod\n",
    "    def crear_frontera(self):\n",
    "        pass\n",
    "\n",
    "    @abstractmethod\n",
    "    def insertar(self, nodo):\n",
    "        pass\n",
    "\n",
    "    @abstractmethod\n",
    "    def extraer(self):\n",
    "        pass\n",
    "\n",
    "    @abstractmethod\n",
    "    def es_vacio(self):\n",
    "        pass\n",
    "\n",
    "    # Devuelve un identificador único de cada nodo para saber si ya hemos visitado un estado.\n",
    "    def clave(self, nodo):\n",
    "        return nodo.estado\n",
    "\n",
    "    def buscar(self):\n",
    "        self.insertar(Nodo(self.problema.inicial))\n",
    "        explorados = set()\n",
    "        self.nodos_generados = 1\n",
    "\n",
    "        while not self.es_vacio():\n",
    "            nodo = self.extraer()\n",
    "            k = self.clave(nodo)\n",
    "            if k in explorados:\n",
    "                continue\n",
    "            explorados.add(k)\n",
    "            self.nodos_expandidos += 1\n",
    "\n",
    "            if self.problema.es_objetivo(nodo.estado):\n",
    "                self.ruta_solucion = nodo.ruta()\n",
    "                return [n.estado for n in self.ruta_solucion]\n",
    "\n",
    "            for accion in self.problema.sucesores(nodo.estado):\n",
    "                hijo = Nodo(accion.destino, nodo, accion, nodo.coste + accion.coste())\n",
    "                self.insertar(hijo)\n",
    "                self.nodos_generados += 1\n",
    "        return None"
   ],
   "outputs": [],
   "execution_count": 6
  },
  {
   "cell_type": "markdown",
   "metadata": {},
   "source": [
    "### 2.6- Heuristica\n",
    "\n",
    "Se utiliza la distancia geodésica entre cada nodo y el objetivo como heurística, calculada con geopy. Esta distancia mide el camino más corto sobre la superficie terrestre, teniendo en cuenta la curvatura de la Tierra. Es una heurística admisible y consistente, lo que garantiza que algoritmos como A* encuentren la solución óptima."
   ]
  },
  {
   "cell_type": "code",
   "metadata": {
    "ExecuteTime": {
     "end_time": "2025-07-05T23:12:21.472451Z",
     "start_time": "2025-07-05T23:12:21.466210Z"
    }
   },
   "source": [
    "def heuristica_geodesica(e1, e2):\n",
    "    return geodesic((e1.latitud, e1.longitud), (e2.latitud, e2.longitud)).meters"
   ],
   "outputs": [],
   "execution_count": 7
  },
  {
   "cell_type": "markdown",
   "metadata": {},
   "source": [
    "### 3.- Clases de Busqueda\n",
    "Es este apartado se definen todas las clases de busqueda necesarias para la resolución del problema."
   ]
  },
  {
   "cell_type": "markdown",
   "metadata": {},
   "source": [
    "### 3.1.- Busqueda Anchura\n",
    "\n",
    "Usa una cola FIFO (deque) como frontera.\n",
    "\n",
    "Siempre encuentra la solución de menor profundidad.\n",
    "\n",
    "**Pasos del algoritmo:**\n",
    "\n",
    "1.  Se crea el nodo raíz con el estado inicial y se inserta en la frontera.\n",
    "\n",
    "2.  Mientras la frontera no esté vacía:\n",
    "\n",
    "    * Se extrae el primer nodo (el más antiguo).\n",
    "\n",
    "    * Si el nodo es objetivo, se reconstruye el camino y termina.\n",
    "\n",
    "    * Si no, se generan sus sucesores y se insertan al final de la frontera.\n",
    "\n",
    "3.  Se lleva un conjunto de estados explorados para evitar repeticiones."
   ]
  },
  {
   "cell_type": "code",
   "metadata": {
    "ExecuteTime": {
     "end_time": "2025-07-05T23:12:21.490054Z",
     "start_time": "2025-07-05T23:12:21.483940Z"
    }
   },
   "source": [
    "class BusquedaAnchura(Busqueda):\n",
    "    def crear_frontera(self):\n",
    "        return deque()\n",
    "\n",
    "    def insertar(self, nodo):\n",
    "        self.frontera.append(nodo)\n",
    "\n",
    "    def extraer(self):\n",
    "        return self.frontera.popleft()\n",
    "\n",
    "    def es_vacio(self):\n",
    "        return not self.frontera"
   ],
   "outputs": [],
   "execution_count": 8
  },
  {
   "cell_type": "markdown",
   "metadata": {},
   "source": [
    "### 3.2.- Busqueda Profundidad\n",
    "\n",
    "Usa una pila (LIFO) como frontera (list).\n",
    "\n",
    "Explora primero el camino más profundo antes de retroceder.\n",
    "\n",
    "No garantiza encontrar la solución más corta.\n",
    "\n",
    "**Pasos del algoritmo:**\n",
    "\n",
    "1.  Se inserta el nodo raíz en la frontera.\n",
    "\n",
    "2.  Mientras haya nodos:\n",
    "\n",
    "    * Se extrae el último nodo insertado (más reciente).\n",
    "\n",
    "    * Si es el objetivo, se reconstruye el camino.\n",
    "\n",
    "    * Si no, se generan los sucesores y se insertan al final de la pila."
   ]
  },
  {
   "cell_type": "code",
   "metadata": {
    "ExecuteTime": {
     "end_time": "2025-07-05T23:12:21.507968Z",
     "start_time": "2025-07-05T23:12:21.502118Z"
    }
   },
   "source": [
    "class BusquedaProfundidad(Busqueda):\n",
    "    def crear_frontera(self):\n",
    "        return []\n",
    "\n",
    "    def insertar(self, nodo):\n",
    "        self.frontera.append(nodo)\n",
    "\n",
    "    def extraer(self):\n",
    "        return self.frontera.pop()\n",
    "\n",
    "    def es_vacio(self):\n",
    "        return not self.frontera"
   ],
   "outputs": [],
   "execution_count": 9
  },
  {
   "cell_type": "markdown",
   "metadata": {},
   "source": [
    "### 3.3.- Greedy (Primero el mejor)\n",
    "\n",
    "Usa una cola de prioridad (heapq) ordenada por la heurística.\n",
    "\n",
    "Solo considera lo cerca que está el nodo del objetivo, sin importar el camino recorrido.\n",
    "\n",
    "No garantiza solución óptima.\n",
    "\n",
    "**Detalles:**\n",
    "\n",
    "* nodo.prioridad = heuristica(nodo.estado, objetivo)\n",
    "\n",
    "* Se inserta con heapq.heappush usando prioridad + contador.\n",
    "\n",
    "* El contador evita errores si dos nodos tienen la misma prioridad."
   ]
  },
  {
   "cell_type": "code",
   "metadata": {
    "ExecuteTime": {
     "end_time": "2025-07-05T23:12:21.524814Z",
     "start_time": "2025-07-05T23:12:21.518830Z"
    }
   },
   "source": [
    "class BusquedaGreedy(Busqueda):\n",
    "    def crear_frontera(self):\n",
    "        return []\n",
    "\n",
    "    def insertar(self, nodo):\n",
    "        nodo.prioridad = heuristica_geodesica(nodo.estado, self.problema.objetivo)\n",
    "        heapq.heappush(self.frontera, (nodo.prioridad, self.contador, nodo))\n",
    "        self.contador += 1\n",
    "\n",
    "    def extraer(self):\n",
    "        return heapq.heappop(self.frontera)[2]\n",
    "\n",
    "    def es_vacio(self):\n",
    "        return not self.frontera\n"
   ],
   "outputs": [],
   "execution_count": 10
  },
  {
   "cell_type": "markdown",
   "metadata": {},
   "source": [
    "### 3.4.- BusquedaAEstrella\n",
    "\n",
    "Es una combinación de coste acumulado (g) + heurística (h).\n",
    "\n",
    "Usa una cola de prioridad ordenada por f = g + h.\n",
    "\n",
    "Garantiza solución óptima, ya que la heuristica es admisible y consistente.\n",
    "\n",
    "**Pasos clave:**\n",
    "\n",
    "* En cada inserción, se calcula nodo.prioridad = g + h.\n",
    "\n",
    "* Se insertan con heapq para mantener el orden.\n",
    "\n",
    "* El contador evita errores si dos nodos tienen la misma prioridad."
   ]
  },
  {
   "cell_type": "code",
   "metadata": {
    "ExecuteTime": {
     "end_time": "2025-07-05T23:12:21.541763Z",
     "start_time": "2025-07-05T23:12:21.535764Z"
    }
   },
   "source": [
    "class BusquedaAEstrella(Busqueda):\n",
    "    def crear_frontera(self):\n",
    "        return []\n",
    "\n",
    "    def insertar(self, nodo):\n",
    "        g = nodo.coste\n",
    "        velocidad_maxima_mps = 120 / 3.6  # 120 km/h → metros/segundo\n",
    "        h = heuristica_geodesica(nodo.estado, self.problema.objetivo) / velocidad_maxima_mps\n",
    "        nodo.prioridad = g + h\n",
    "        heapq.heappush(self.frontera, (nodo.prioridad, self.contador, nodo))\n",
    "        self.contador += 1\n",
    "\n",
    "    def extraer(self):\n",
    "        return heapq.heappop(self.frontera)[2]\n",
    "\n",
    "    def es_vacio(self):\n",
    "        return not self.frontera"
   ],
   "outputs": [],
   "execution_count": 11
  },
  {
   "cell_type": "markdown",
   "metadata": {},
   "source": [
    "### 3.4.- Busqueda Profundidad Limitada (extraordinario)\n",
    "\n",
    "Funciona igual que profundidad, pero con un límite de profundidad máximo.\n",
    "\n",
    "Impide que se expanda un nodo si su nodo.profundidad > límite.\n",
    "\n",
    "**Funcionamiento:**\n",
    "\n",
    "* Solo inserta nodos si nodo.profundidad <= límite.\n",
    "\n",
    "* Usa una pila (lista) para la frontera (append() y pop()).\n",
    "\n",
    "* Permite volver a visitar el mismo nodo si se llega a él con distinta profundidad:\n",
    "clave = (estado, profundidad)"
   ]
  },
  {
   "cell_type": "code",
   "metadata": {
    "ExecuteTime": {
     "end_time": "2025-07-05T23:12:21.557927Z",
     "start_time": "2025-07-05T23:12:21.551578Z"
    }
   },
   "source": [
    "class BusquedaProfundidadLimitada(Busqueda):\n",
    "    def __init__(self, problema, limite):\n",
    "        super().__init__(problema)\n",
    "        self.limite = limite\n",
    "\n",
    "    def crear_frontera(self):\n",
    "        return []\n",
    "\n",
    "    def insertar(self, nodo):\n",
    "        if nodo.profundidad <= self.limite:\n",
    "            self.frontera.append(nodo)\n",
    "\n",
    "    def extraer(self):\n",
    "        return self.frontera.pop()\n",
    "\n",
    "    def es_vacio(self):\n",
    "        return not self.frontera\n",
    "\n",
    "    # Para volver a visitar el mismo estado en distinta profundidad\n",
    "    def clave(self, nodo):\n",
    "        return (nodo.estado, nodo.profundidad)\n"
   ],
   "outputs": [],
   "execution_count": 12
  },
  {
   "cell_type": "markdown",
   "metadata": {},
   "source": [
    "### 3.5.- Busqueda Profundidad Iterativa (extraordinario)\n",
    "\n",
    "Repite varias búsquedas en profundidad limitada, aumentando el límite en cada intento.\n",
    "\n",
    "Combina las ventajas de anchura y profundidad.\n",
    "\n",
    "Cada iteración crea una nueva búsqueda con mayor límite.\n",
    "\n",
    "No usa una frontera propia como el resto de estrategias. Por eso, los métodos crear_frontera(), insertar(), extraer() y es_vacio() no hacen nada o devuelven valores vacíos\n",
    "\n",
    "**Pasos:**\n",
    "\n",
    "1.  Se empieza con límite = 0.\n",
    "\n",
    "2.  En cada iteración:\n",
    "\n",
    "    * Se crea una nueva instancia de búsqueda en profundidad limitada, llamada subbusqueda, con ese límite.\n",
    "\n",
    "    * Se ejecuta subbusqueda.buscar() para intentar encontrar una solución con ese límite.\n",
    "\n",
    "    * Si encuentra solución, se guarda (self.ruta_solucion = subbusqueda.ruta_solucion) y termina.\n",
    "\n",
    "    * Si no encuentra solución, se aumenta el límite y se vuelve a intentar.\n",
    "\n",
    "3. En cada intento se acumulan los nodos generados y expandidos por subbusqueda.\n",
    "\n"
   ]
  },
  {
   "cell_type": "code",
   "metadata": {
    "ExecuteTime": {
     "end_time": "2025-07-05T23:12:21.572818Z",
     "start_time": "2025-07-05T23:12:21.566817Z"
    }
   },
   "source": [
    "class BusquedaProfundidadIterativa(Busqueda):\n",
    "    def crear_frontera(self):\n",
    "        return None  # No se usa ningno, se usan en limitada\n",
    "\n",
    "    def insertar(self, nodo):\n",
    "        pass  \n",
    "\n",
    "    def extraer(self):\n",
    "        pass  \n",
    "\n",
    "    def es_vacio(self):\n",
    "        return True  # para que nunca entre\n",
    "\n",
    "    def buscar(self):\n",
    "        limite = 0\n",
    "        while True:\n",
    "            subbusqueda = BusquedaProfundidadLimitada(self.problema, limite)\n",
    "            resultado = subbusqueda.buscar()\n",
    "            self.nodos_generados += subbusqueda.nodos_generados\n",
    "            self.nodos_expandidos += subbusqueda.nodos_expandidos\n",
    "            if resultado is not None:\n",
    "                self.ruta_solucion = subbusqueda.ruta_solucion\n",
    "                return resultado\n",
    "            limite += 1\n"
   ],
   "outputs": [],
   "execution_count": 13
  },
  {
   "cell_type": "markdown",
   "metadata": {},
   "source": [
    "### 4.- Carga y Ejecución\n",
    "En este apartado se han colocado los metodos necesarios para la carga de los datos en el problema y la ejecución de los métodos de búsqueda.\n",
    "### 4.1.- Cargar Problema\n",
    "Este metodo lee un archivo .json con la descripción del mapa.\n",
    "\n",
    "* estados: contiene los nodos/intersecciones con su posición.\n",
    "\n",
    "* acciones: contiene las transiciones posibles desde cada nodo (segmentos con distancia y velocidad).\n",
    "\n",
    "* Crea dos diccionarios, estados **(clave: ID, valor: objeto Estado)** y acciones **(clave: ID de origen, valor: lista de acciones posibles desde ese estado)**.\n",
    "\n",
    "* Asocia cada intersección a un estado y cada segmento a una acción.\n",
    "\n",
    "* Ordena las acciones de cada estado por el ID del destino para mejorar la exploración.\n",
    "\n",
    "* Devuelve una instancia de Problema con toda la información del mapa cargada.\n",
    "\n"
   ]
  },
  {
   "cell_type": "code",
   "metadata": {
    "ExecuteTime": {
     "end_time": "2025-07-05T23:12:21.589833Z",
     "start_time": "2025-07-05T23:12:21.581842Z"
    }
   },
   "source": [
    "def cargar_json(ruta):\n",
    "    with open(ruta, \"r\", encoding=\"utf-8\") as f:\n",
    "        datos = json.load(f)\n",
    "    estados = {}\n",
    "    acciones = {}\n",
    "\n",
    "    for inter in datos[\"intersections\"]:\n",
    "        estado = Estado(inter[\"identifier\"], inter[\"latitude\"], inter[\"longitude\"])\n",
    "        estados[estado.id] = estado\n",
    "        acciones[estado.id] = []\n",
    "\n",
    "    for seg in datos[\"segments\"]:\n",
    "        origen = estados[seg[\"origin\"]]\n",
    "        destino = estados[seg[\"destination\"]]\n",
    "        acciones[origen.id].append(Accion(origen, destino, seg[\"distance\"], seg[\"speed\"]))\n",
    "\n",
    "    for lista in acciones.values():\n",
    "        lista.sort(key=lambda acc: acc.destino.id)\n",
    "\n",
    "    return Problema(estados[datos[\"initial\"]], estados[datos[\"final\"]], estados, acciones)"
   ],
   "outputs": [],
   "execution_count": 14
  },
  {
   "cell_type": "markdown",
   "metadata": {},
   "source": [
    "### 4.2.- EjecutarAlgoritmos\n",
    "Este metodo se encarga de ejecutar todos los algoritmos de búsqueda, para cada uno:\n",
    "\n",
    "* Calcula la profundidad óptima con búsqueda por anchura (Se usa como límite para la búsqueda en profundidad limitada)\n",
    "\n",
    "* Define la lista de algoritmos\n",
    "\n",
    "    * Se crea una instancia del problema.\n",
    "\n",
    "    * Se ejecuta su método buscar().\n",
    "\n",
    "    * Se mide el tiempo total que tarda con time.perf_counter().\n",
    "\n",
    "* Muestra por pantalla las estadísticas."
   ]
  },
  {
   "cell_type": "code",
   "metadata": {
    "ExecuteTime": {
     "end_time": "2025-07-05T23:12:21.607404Z",
     "start_time": "2025-07-05T23:12:21.599401Z"
    }
   },
   "source": [
    "def ejecutar_algoritmos(problema):\n",
    "    # Ejecutamos búsqueda por anchura para obtener la profundidad mínima\n",
    "    anchura = BusquedaAnchura(problema)\n",
    "    anchura.buscar()\n",
    "    limite_optimo = len(anchura.ruta_solucion) - 1\n",
    "\n",
    "    algoritmos = [\n",
    "        (\"Búsqueda por Anchura\", BusquedaAnchura),\n",
    "        (\"Búsqueda por Profundidad\", BusquedaProfundidad),\n",
    "        (f\"Profundidad Limitada (límite={limite_optimo})\", lambda p: BusquedaProfundidadLimitada(p, limite_optimo)),\n",
    "        (\"Profundidad Iterativa\", BusquedaProfundidadIterativa),\n",
    "        (\"Primero el Mejor\", BusquedaGreedy),\n",
    "        (\"Búsqueda A*\", BusquedaAEstrella),\n",
    "    ]\n",
    "\n",
    "    for nombre, clase in algoritmos:\n",
    "        buscador = clase(problema)\n",
    "        t0 = time.perf_counter()\n",
    "        resultado = buscador.buscar()\n",
    "        t1 = time.perf_counter()\n",
    "\n",
    "        print(f\"\\n{nombre}\")\n",
    "        print(\"Nodos generados:\", buscador.nodos_generados)\n",
    "        print(\"Nodos expandidos:\", buscador.nodos_expandidos)\n",
    "        print(\"Tiempo:\", round(t1 - t0, 4), \"segundos\")\n",
    "\n",
    "        if resultado is None:\n",
    "            print(\"No se encontró solución.\")\n",
    "        else:\n",
    "            nodos = buscador.ruta_solucion\n",
    "            pasos = nodos[1:]\n",
    "            print(\"Profundidad de la solución:\", len(pasos))\n",
    "            coste = sum(n.accion.coste() for n in pasos)\n",
    "            print(\"Longitud de la solución:\", len(pasos))\n",
    "            print(\"Coste de la solución:\", round(coste, 4), \"segundos\")\n",
    "            texto = \", \".join(str(n.accion) for n in pasos)\n",
    "            print(f\"Solución: [{texto}]\")"
   ],
   "outputs": [],
   "execution_count": 15
  },
  {
   "cell_type": "markdown",
   "metadata": {},
   "source": [
    "### 5.- Ruta\n",
    "Por ultimo, aquí se define la ruta del archivo .json que contiene el problema a resolver. \n",
    "Luego se carga el problema con cargar_json() y se llama a ejecutar_algoritmos() para resolverlo con todos los métodos disponible"
   ]
  },
  {
   "cell_type": "code",
   "metadata": {
    "ExecuteTime": {
     "end_time": "2025-07-05T23:12:22.136016Z",
     "start_time": "2025-07-05T23:12:21.617243Z"
    }
   },
   "source": [
    "if __name__ == \"__main__\":\n",
    "    ruta = \"C:/Users/pasat/OneDrive/Desktop/InteliPrac1/examples_with_solutions/problems/huge/calle_cardenal_tabera_y_araoz_albacete_2000_1.json\"\n",
    "    problema = cargar_json(ruta)\n",
    "    ejecutar_algoritmos(problema)\n"
   ],
   "outputs": [
    {
     "ename": "FileNotFoundError",
     "evalue": "[Errno 2] No such file or directory: 'C:/Users/pasat/OneDrive/Desktop/InteliPrac1/examples_with_solutions/problems/huge/calle_cardenal_tabera_y_araoz_albacete_2000_1.json'",
     "output_type": "error",
     "traceback": [
      "\u001B[1;31m---------------------------------------------------------------------------\u001B[0m",
      "\u001B[1;31mFileNotFoundError\u001B[0m                         Traceback (most recent call last)",
      "Cell \u001B[1;32mIn[16], line 3\u001B[0m\n\u001B[0;32m      1\u001B[0m \u001B[38;5;28;01mif\u001B[39;00m \u001B[38;5;18m__name__\u001B[39m \u001B[38;5;241m==\u001B[39m \u001B[38;5;124m\"\u001B[39m\u001B[38;5;124m__main__\u001B[39m\u001B[38;5;124m\"\u001B[39m:\n\u001B[0;32m      2\u001B[0m     ruta \u001B[38;5;241m=\u001B[39m \u001B[38;5;124m\"\u001B[39m\u001B[38;5;124mC:/Users/pasat/OneDrive/Desktop/InteliPrac1/examples_with_solutions/problems/huge/calle_cardenal_tabera_y_araoz_albacete_2000_1.json\u001B[39m\u001B[38;5;124m\"\u001B[39m\n\u001B[1;32m----> 3\u001B[0m     problema \u001B[38;5;241m=\u001B[39m \u001B[43mcargar_json\u001B[49m\u001B[43m(\u001B[49m\u001B[43mruta\u001B[49m\u001B[43m)\u001B[49m\n\u001B[0;32m      4\u001B[0m     ejecutar_algoritmos(problema)\n",
      "Cell \u001B[1;32mIn[14], line 2\u001B[0m, in \u001B[0;36mcargar_json\u001B[1;34m(ruta)\u001B[0m\n\u001B[0;32m      1\u001B[0m \u001B[38;5;28;01mdef\u001B[39;00m\u001B[38;5;250m \u001B[39m\u001B[38;5;21mcargar_json\u001B[39m(ruta):\n\u001B[1;32m----> 2\u001B[0m     \u001B[38;5;28;01mwith\u001B[39;00m \u001B[38;5;28;43mopen\u001B[39;49m\u001B[43m(\u001B[49m\u001B[43mruta\u001B[49m\u001B[43m,\u001B[49m\u001B[43m \u001B[49m\u001B[38;5;124;43m\"\u001B[39;49m\u001B[38;5;124;43mr\u001B[39;49m\u001B[38;5;124;43m\"\u001B[39;49m\u001B[43m,\u001B[49m\u001B[43m \u001B[49m\u001B[43mencoding\u001B[49m\u001B[38;5;241;43m=\u001B[39;49m\u001B[38;5;124;43m\"\u001B[39;49m\u001B[38;5;124;43mutf-8\u001B[39;49m\u001B[38;5;124;43m\"\u001B[39;49m\u001B[43m)\u001B[49m \u001B[38;5;28;01mas\u001B[39;00m f:\n\u001B[0;32m      3\u001B[0m         datos \u001B[38;5;241m=\u001B[39m json\u001B[38;5;241m.\u001B[39mload(f)\n\u001B[0;32m      4\u001B[0m     estados \u001B[38;5;241m=\u001B[39m {}\n",
      "File \u001B[1;32m~\\AppData\\Local\\Packages\\PythonSoftwareFoundation.Python.3.11_qbz5n2kfra8p0\\LocalCache\\local-packages\\Python311\\site-packages\\IPython\\core\\interactiveshell.py:324\u001B[0m, in \u001B[0;36m_modified_open\u001B[1;34m(file, *args, **kwargs)\u001B[0m\n\u001B[0;32m    317\u001B[0m \u001B[38;5;28;01mif\u001B[39;00m file \u001B[38;5;129;01min\u001B[39;00m {\u001B[38;5;241m0\u001B[39m, \u001B[38;5;241m1\u001B[39m, \u001B[38;5;241m2\u001B[39m}:\n\u001B[0;32m    318\u001B[0m     \u001B[38;5;28;01mraise\u001B[39;00m \u001B[38;5;167;01mValueError\u001B[39;00m(\n\u001B[0;32m    319\u001B[0m         \u001B[38;5;124mf\u001B[39m\u001B[38;5;124m\"\u001B[39m\u001B[38;5;124mIPython won\u001B[39m\u001B[38;5;124m'\u001B[39m\u001B[38;5;124mt let you open fd=\u001B[39m\u001B[38;5;132;01m{\u001B[39;00mfile\u001B[38;5;132;01m}\u001B[39;00m\u001B[38;5;124m by default \u001B[39m\u001B[38;5;124m\"\u001B[39m\n\u001B[0;32m    320\u001B[0m         \u001B[38;5;124m\"\u001B[39m\u001B[38;5;124mas it is likely to crash IPython. If you know what you are doing, \u001B[39m\u001B[38;5;124m\"\u001B[39m\n\u001B[0;32m    321\u001B[0m         \u001B[38;5;124m\"\u001B[39m\u001B[38;5;124myou can use builtins\u001B[39m\u001B[38;5;124m'\u001B[39m\u001B[38;5;124m open.\u001B[39m\u001B[38;5;124m\"\u001B[39m\n\u001B[0;32m    322\u001B[0m     )\n\u001B[1;32m--> 324\u001B[0m \u001B[38;5;28;01mreturn\u001B[39;00m \u001B[43mio_open\u001B[49m\u001B[43m(\u001B[49m\u001B[43mfile\u001B[49m\u001B[43m,\u001B[49m\u001B[43m \u001B[49m\u001B[38;5;241;43m*\u001B[39;49m\u001B[43margs\u001B[49m\u001B[43m,\u001B[49m\u001B[43m \u001B[49m\u001B[38;5;241;43m*\u001B[39;49m\u001B[38;5;241;43m*\u001B[39;49m\u001B[43mkwargs\u001B[49m\u001B[43m)\u001B[49m\n",
      "\u001B[1;31mFileNotFoundError\u001B[0m: [Errno 2] No such file or directory: 'C:/Users/pasat/OneDrive/Desktop/InteliPrac1/examples_with_solutions/problems/huge/calle_cardenal_tabera_y_araoz_albacete_2000_1.json'"
     ]
    }
   ],
   "execution_count": 16
  },
  {
   "cell_type": "markdown",
   "metadata": {},
   "source": [
    "### 6.- Resultados\n",
    "\n",
    "A continuación, se presentan los resultados obtenidos al ejecutar los diferentes algoritmos de búsqueda sobre el mapa.\n",
    "\n",
    "**huge/calle_cardenal_tabera_y_araoz_albacete_2000_1.json**\n",
    "\n",
    "Búsqueda por Anchura\n",
    "Nodos generados: 288\n",
    "Nodos expandidos: 155\n",
    "Tiempo: 0.0003 segundos\n",
    "Profundidad de la solución: 12\n",
    "Longitud de la solución: 12\n",
    "Coste de la solución: 93.2248 segundos\n",
    "\n",
    "Búsqueda por Profundidad\n",
    "Nodos generados: 2511\n",
    "Nodos expandidos: 1297\n",
    "Tiempo: 0.0054 segundos\n",
    "Profundidad de la solución: 66\n",
    "Longitud de la solución: 66\n",
    "Coste de la solución: 489.1194 segundos\n",
    "\n",
    "Profundidad Limitada (límite=12)\n",
    "Nodos generados: 643\n",
    "Nodos expandidos: 317\n",
    "Tiempo: 0.0029 segundos\n",
    "Profundidad de la solución: 12\n",
    "Longitud de la solución: 12\n",
    "Coste de la solución: 82.0853 segundos\n",
    "\n",
    "Profundidad Iterativa\n",
    "Nodos generados: 3647\n",
    "Nodos expandidos: 1893\n",
    "Tiempo: 0.01 segundos\n",
    "Profundidad de la solución: 12\n",
    "Longitud de la solución: 12\n",
    "Coste de la solución: 82.0853 segundos\n",
    "\n",
    "Primero el Mejor\n",
    "Nodos generados: 34\n",
    "Nodos expandidos: 16\n",
    "Tiempo: 0.0044 segundos\n",
    "Profundidad de la solución: 15\n",
    "Longitud de la solución: 15\n",
    "Coste de la solución: 125.382 segundos\n",
    "\n",
    "Búsqueda A*\n",
    "Nodos generados: 156\n",
    "Nodos expandidos: 79\n",
    "Tiempo: 0.0247 segundos\n",
    "Profundidad de la solución: 12\n",
    "Longitud de la solución: 12\n",
    "Coste de la solución: 82.0853 segundos\n",
    "\n",
    "\n",
    "\n"
   ]
  },
  {
   "cell_type": "markdown",
   "metadata": {},
   "source": [
    "### 7.- Conclusión\n",
    "\n",
    "Los resultados obtenidos son coherentes y confirman el buen funcionamiento de todas las estrategias:\n",
    "\n",
    "Anchura encuentra la solución más corta  y su coste es razonable, ya que explora por niveles y garantiza la solución óptima si los costes son uniformes.\n",
    "\n",
    "Profundidad genera muchos más nodos y encuentra una solución mucho más larga y costosa, lo cual es esperable al priorizar la exploración hacia el fondo sin considerar el coste.\n",
    "\n",
    "Profundidad Limitada encuentra la misma solución óptima que anchura al establecer el mismo límite.\n",
    "\n",
    "Profundidad Iterativa repite búsquedas con límites crecientes, acumulando nodos, pero logra encontrar la solución óptima. Su coste en tiempo y nodos es mayor.\n",
    "\n",
    "Primero el Mejor genera muy pocos nodos pero no garantiza la mejor solución, encuentra un camino más largo y con mayor coste, ya que solo se guía por la heurística.\n",
    "\n",
    "A* combina coste y heurística, encontrando la solución óptima con un número de nodos intermedio y un coste igual al de profundidad limitada, lo que confirma que está funcionando correctamente.\n",
    "\n",
    "En resumen, todos los algoritmos se comportan como teóricamente se espera y los resultados obtenidos coinciden con los valores proporcionados por el profesorado, lo que valida la implementación. "
   ]
  }
 ],
 "metadata": {
  "datalore": {
   "base_environment": "default",
   "computation_mode": "JUPYTER",
   "package_manager": "pip",
   "packages": [
    {
     "name": "pqueue",
     "source": "PIP",
     "version": "0.1.7"
    },
    {
     "name": "geopy",
     "source": "PIP",
     "version": "2.2.0"
    }
   ],
   "version": 1
  },
  "kernelspec": {
   "display_name": "Python 3",
   "language": "python",
   "name": "python3"
  },
  "language_info": {
   "codemirror_mode": {
    "name": "ipython",
    "version": 3
   },
   "file_extension": ".py",
   "mimetype": "text/x-python",
   "name": "python",
   "nbconvert_exporter": "python",
   "pygments_lexer": "ipython3",
   "version": "3.11.9"
  },
  "latex_envs": {
   "LaTeX_envs_menu_present": true,
   "autoclose": false,
   "autocomplete": true,
   "bibliofile": "biblio.bib",
   "cite_by": "apalike",
   "current_citInitial": 1,
   "eqLabelWithNumbers": true,
   "eqNumInitial": 1,
   "hotkeys": {
    "equation": "Ctrl-E",
    "itemize": "Ctrl-I"
   },
   "labels_anchors": false,
   "latex_user_defs": false,
   "report_style_numbering": false,
   "user_envs_cfg": false
  }
 },
 "nbformat": 4,
 "nbformat_minor": 4
}
