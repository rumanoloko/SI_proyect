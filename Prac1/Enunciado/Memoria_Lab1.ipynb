{
 "cells": [
  {
   "cell_type": "markdown",
   "metadata": {
    "id": "DbwBc-J1Ztkx"
   },
   "source": [
    "# Sistemas Inteligentes\n",
    "\n",
    "## Curso académico 2024-2025\n",
    "\n",
    "### Práctica 1: Búsqueda en espacio de estados\n",
    "\n",
    "#### Profesores\n",
    "\n",
    "* Juan Carlos Alfaro Jiménez: JuanCarlos.Alfaro@uclm.es\n",
    "* María Julia Flores Gallego: Julia.Flores@uclm.es\n",
    "* Ismael García Varea: Ismael.Garcia@uclm.es\n",
    "* Adrián Rodríguez López: Adrian.Rodriguez18@alu.uclm.es"
   ]
  },
  {
   "cell_type": "markdown",
   "metadata": {
    "datalore": {
     "hide_input_from_viewers": false,
     "hide_output_from_viewers": false,
     "node_id": "BJiz7lonyeROocVlcYrKWu",
     "type": "MD"
    },
    "id": "a6lo9FhrZtkz"
   },
   "source": [
    "## ¡Conducción autónoma!"
   ]
  },
  {
   "cell_type": "markdown",
   "metadata": {
    "datalore": {
     "hide_input_from_viewers": false,
     "hide_output_from_viewers": false,
     "node_id": "BJiz7lonyeROocVlcYrKWu",
     "type": "MD"
    },
    "id": "c5WTx0SbZtkz"
   },
   "source": [
    "## 1. Introducción\n",
    "\n",
    "En el marco de un proyecto piloto del **Ministerio de Transportes y Movilidad Sostenible**, cuyo objetivo es proporcionar un servicio de desplazamiento urbano personalizado para personas con movilidad reducida, se nos ha encargado el estudio del despliegue de una flota de vehículos autónomos en diferentes localidades y ciudades del país en función de una serie de indicadores (tamaño de la población, densidad de población, demanda del servicio, etc.). Dichos vehículos autónomos deberán disponer de un sistema de conducción inteligente que permita a dichos vehículos llevar a una serie de personas desde un punto de origen hasta su destino de manera segura y eficiente.\n",
    "\n",
    "Dentro del proyecto, **por el momento, se nos pide diseñar un algoritmo que sea capaz de optimizar el transporte a una persona desde un lugar de origen a un destino específico** dentro de una ciudad. En este escenario, el vehículo autónomo deberá navegar por una red de calles e intersecciones urbanas, donde todas las rutas son potencialmente válidas. Sin embargo, **el sistema debe optimizar la selección del camino** no solo para encontrar una ruta válida, sino también para **minimizar el tiempo de recorrido**. Esto implica que la inteligencia artificial debe considerar factores como la distancia, la velocidad permitida en cada calle y cualquier otro factor relevante que pueda afectar al tiempo total del trayecto."
   ]
  },
  {
   "cell_type": "markdown",
   "metadata": {
    "id": "-NkUL0D7Ztk0"
   },
   "source": [
    "### 1.1. Objetivos de la práctica\n",
    "\n",
    "* Implementar las estrategias de búsqueda no informada **primero en anchura** y **primero en profundidad** para encontrar un camino desde el punto de partida hasta un lugar de destino.\n",
    "\n",
    "* Implementar las estrategias de búsqueda informada **primero mejor** y **A\\*** utilizando heurísticas apropiadas para resolver el problema en cuestión.\n",
    "\n",
    "En este trabajo pondremos en práctica las técnicas de búsqueda en estado de espacios. Para ello, se implementarán y utilizarán algunos de los algoritmos vistos en los temas dos y tres para resolver un problema clásico, esto es, buscar rutas en un grafo.\n",
    "\n",
    "También analizaremos y compararemos el rendimiento de los algoritmos ejecutándolos en diferentes instancias del problema y proporcionando distintos estados inicial y objetivo.\n",
    "\n",
    "Esperamos que esta práctica os ayude a profundizar en vuestra comprensión de las estrategias de búsqueda en inteligencia artificial y os anime a pensar en cómo se pueden aplicar estas técnicas en situaciones del mundo real para ayudar en operaciones de navegación y otras tareas críticas.\n",
    "\n",
    "**¡Buena suerte!**"
   ]
  },
  {
   "cell_type": "markdown",
   "metadata": {
    "datalore": {
     "hide_input_from_viewers": false,
     "hide_output_from_viewers": false,
     "node_id": "kf129lUYKXkYfl7kIPcDlq",
     "type": "MD"
    },
    "id": "lhHPEMpIZtk0"
   },
   "source": [
    "## 2. Descripción del problema\n",
    "\n",
    "Deberéis resolver un problema en el que un vehículo autónomo debe encontrar la ruta más rápida entre dos intersecciones cualesquiera en una ciudad. El espacio de búsqueda está definido por un sistema vial urbano donde el vehículo puede moverse en varias direcciones para alcanzar su destino.\n",
    "\n",
    "Más formalmente, el problema se puede definir como:\n",
    "\n",
    "* Estado inicial: Un punto de partida que representa la intersección inicial del vehículo.\n",
    "* Estados: Todas las intersecciones de la ciudad son válidas para el tránsito y pueden ser visitadas por el vehículo.\n",
    "* Estado final: Llegar a la intersección de destino.\n",
    "* Acciones: Moverse de una intersección a otra a través de las calles de la ciudad."
   ]
  },
  {
   "cell_type": "markdown",
   "metadata": {
    "id": "64-39OBVZtk1"
   },
   "source": [
    "### 2.1. Ejemplo ilustrativo:\n",
    "\n",
    "Un posible ejemplo de este problema podría ser el que se muestra en la siguiente imagen, que muestra una parte de la ciudad de Albacete:\n",
    "\n",
    "![title](figures/small/paseo_simón_abril_250_1.png)\n",
    "\n",
    "En este caso, el objetivo sería ir de la intersección con identificador `621983933`, representada en color verde; a la intersección con identificador `1322977378`, representada en color azul.\n",
    "\n",
    "---\n",
    "\n",
    "##### Nota:\n",
    "\n",
    "* El archivo de contiene la imagen debe guardarse en la ruta indicada en el código de esta celda.\n",
    "\n",
    "---"
   ]
  },
  {
   "cell_type": "markdown",
   "metadata": {
    "datalore": {
     "hide_input_from_viewers": false,
     "hide_output_from_viewers": false,
     "node_id": "6gYL6VoT3okFgLpKvyyAq7",
     "type": "MD"
    },
    "id": "Jm6MkQF9Ztk1"
   },
   "source": [
    "## 3. Desarrollo de la práctica\n",
    "\n",
    "Durante el desarrollo de la práctica, se hará entrega un conjunto de instancias de problemas. La dimensionalidad será variable, y los algoritmos implementados deberán ser lo suficientemente eficientes para funcionar correctamente con todas las instancias proporcionadas. En la evaluación de la práctica se realizará con escenarios diferentes a los proporcionados, generados de forma automática y de diferente dimensionalidad."
   ]
  },
  {
   "cell_type": "markdown",
   "metadata": {
    "id": "zm4rGPGvZtk1"
   },
   "source": [
    "### 3.1 Problemas de entrada\n",
    "\n",
    "Cada escenario vendrá dado en un archivo en formato `json` que contiene la siguiente información, siguiendo el formato de un diccionario cuyas claves son:\n",
    "\n",
    "* `address`: Dirección utilizada\n",
    "* `distance`: Radio máximo utilizado para sacar las intersecciones y segmentos alrededor de la dirección\n",
    "* `intersections`: Lista de diccionarios con la información de las intersecciones\n",
    "* `segments`: Lista de diccionarios con la información de los segmentos, esto es, calles entre dos intersecciones\n",
    "* `initial`: Intersección inicial\n",
    "* `final`: Intersección final\n",
    "\n",
    "En cada diccionario en `intersections`, hay tres claves:\n",
    "\n",
    "* `identifier`: Identificador de la intersección\n",
    "* `longitude`: Longitud de la intersección\n",
    "* `latitude`: Latitud de la intersección\n",
    "\n",
    "En cada diccionario en `segments`, hay cuatro claves:\n",
    "\n",
    "* `origin`: Intersección origen\n",
    "* `destination`: Intersección destino\n",
    "* `distance`: Distancia entre las dos intersecciones\n",
    "* `speed`: Velocidad máxima permitida entre las dos intersecciones"
   ]
  },
  {
   "cell_type": "markdown",
   "metadata": {
    "datalore": {
     "hide_input_from_viewers": false,
     "hide_output_from_viewers": false,
     "node_id": "XqiqZwKKFJXYVAdvmfoLoK",
     "type": "MD"
    },
    "id": "Eq_Sl-5xZtk1"
   },
   "source": [
    "## 4. Plan de trabajo"
   ]
  },
  {
   "cell_type": "markdown",
   "metadata": {
    "id": "cFiE-8QdZtk1"
   },
   "source": [
    "### 4.1. Tareas a realizar\n",
    "\n",
    "* Diseño del espacio de estados:\n",
    "    * Describir cómo se representará el espacio de estados, las acciones y el coste de las acciones.\n",
    "\n",
    "\n",
    "* Implementación de estrategias de búsqueda:\n",
    "    * Implementar al menos dos estrategias de búsqueda no informada.\n",
    "    * Implementar al menos dos estrategias de búsqueda informada, utilizando heurísticas adecuadas para encontrar rutas óptimas.\n",
    "\n",
    "\n",
    "* Experimentación y análisis:\n",
    "    * Analizar el rendimiento de las estrategias implementadas en términos de optimización de tiempo, espacio y rutas.\n",
    "    * Comparar y contrastar los resultados obtenidos de las diferentes estrategias de búsqueda.\n",
    "\n",
    "\n",
    "* Informe:\n",
    "    * Redactar un informe detallando el proceso seguido, las estrategias implementadas y los resultados obtenidos.\n",
    "\n",
    "\n",
    "A continuación se proporcionan más detalles de cada tarea."
   ]
  },
  {
   "cell_type": "markdown",
   "metadata": {
    "id": "H_9BjAw4Ztk2"
   },
   "source": [
    "### 4.2. Evaluación de la práctica\n",
    "\n",
    "La evaluación de la práctica se realizará mediante un examen individual en la que tendrá en cuenta:\n",
    "\n",
    "* La correcta implementación de las estrategias de búsqueda: 50%\n",
    "* El diseño del espacio de estados y heurísticas: 25%\n",
    "* La experimentación realizada y el análisis de resultados: 25%\n",
    "\n",
    "Todo ello ponderado por nivel de conocimiento que el estudiante ofrezca de la práctica en caso de que el examen sea una entrevista personal."
   ]
  },
  {
   "cell_type": "markdown",
   "metadata": {
    "id": "WB9zFfDiZtk2"
   },
   "source": [
    "### 4.3. Fechas\n",
    "\n",
    "* Fecha límite para enviar el código: **31 de octubre de 2024**\n",
    "* Plazo de presentación del informe: **Final del cuatrimestre**"
   ]
  },
  {
   "cell_type": "markdown",
   "metadata": {
    "id": "Y0nqdOdQZtk2"
   },
   "source": [
    "### 4.4. Formalización del problema y ejemplos\n",
    "\n",
    "En primer lugar, la búsqueda de rutas en una ciudad debe formalizarse como un problema de búsqueda en espacio de estados, definiendo sus elementos básicos. Todas las implementaciones deben hacer referencia a la búsqueda en grafos, por lo que es importante tener en cuenta que se deben controlar los estados repetidos."
   ]
  },
  {
   "cell_type": "markdown",
   "metadata": {
    "id": "cGxuLKw-Ztk2"
   },
   "source": [
    "### 4.5. Implementación\n",
    "\n",
    "La implementación deberá realizarse en lenguaje `Python`. Para ello deberéis codificar vuestra propia estructura de clases para la formalización del problema y, posteriormente, implementar los algoritmos estudiados en las clases de teoría para resolver el problema de búsqueda planteado. Recomendamos crear una clase por cada entidad que define un problema de búsqueda, a saber, estado, acción, nodo, problema, búsqueda, etc.\n",
    "\n",
    "**Se recomienda probar cada una de las clases creadas tras su implementación para comprobar su correcto funcionamiento antes de integrarlas en el resto del código.**\n",
    "\n",
    "---\n",
    "\n",
    "##### Notas:\n",
    "\n",
    "* El orden de las acciones viene determinado por el estado destino cuyo identificador sea menor, es decir en caso de que en un punto dado (intersección) se puedan alcanzar diferentes destinos (parciales) se visitarán siguiendo un orden numérico creciente. Lo mismo aplica en caso de empate en los algoritmos de búsqueda informados.\n",
    "\n",
    "---"
   ]
  },
  {
   "cell_type": "markdown",
   "metadata": {
    "datalore": {
     "hide_input_from_viewers": false,
     "hide_output_from_viewers": false,
     "node_id": "6q3uoKPoKLFZnX2wHpx2mu",
     "type": "MD"
    },
    "id": "ERuuZ_ebZtk2"
   },
   "source": [
    "### 4.6. Estudio y mejora de los algoritmos\n",
    "\n",
    "Una vez implementados los algoritmos, se deberá realizar un estudio su rendimiento. Para ello, se deberá comparar la calidad de las soluciones obtenidas, así como el número de nodos expandidos para instancias de diferentes tamaños. Factores como el tamaño máximo de problema que se puede resolver sin que haya desbordamiento de memoria, o el efecto de utilizar escenarios más complejos, también son importantes. Además, se pueden proponer implementaciones alternativas que aumenten la eficiencia de los algoritmos."
   ]
  },
  {
   "cell_type": "markdown",
   "metadata": {
    "datalore": {
     "hide_input_from_viewers": false,
     "hide_output_from_viewers": false,
     "node_id": "TN8nQpEQOYIQynu67Jy1ln",
     "type": "MD"
    },
    "id": "zie1YR_kZtk2"
   },
   "source": [
    "### 4.7. Informe\n",
    "\n",
    "Además del cuaderno que contiene la implementación, el trabajo consiste en elaborar un informe, que tendrá una fecha de entrega posterior, pero que recomendamos que se realice a la vez que se desarrolle la práctica, tanto para el código como para la parte de estudio y mejora de los algoritmos.\n",
    "\n",
    "En particular, entre otros temas que se consideren de interés mencionar, en informe deberá incluir como mínimo:\n",
    "\n",
    "* Una breve descripción del problema, una descripción de la implementación, la evaluación del rendimiento y la descripción de las mejoras, si existen.\n",
    "\n",
    "* La formalización del problema.\n",
    "\n",
    "* Para algoritmos de búsqueda informados se deben proporcionar al menos dos heurísticas. Además de su descripción y motivación, se deberá incluir un análisis que indique si la heurística propuesta se considera admisible y consistente.\n",
    "\n",
    "* El estudio del rendimiento de los algoritmos implementados debe basarse en probar los algoritmos en varias instancias, presentando tablas o gráficos que resuman los resultados.\n",
    "\n",
    "**El informe no debe incluir figuras con código fuente**, a menos que sea necesario para explicar algún concepto clave como estructuras de datos, mejoras en eficiencia, etc. En tales casos, se permite incluir pseudocódigo con el formato adecuado.\n",
    "\n",
    "**Tampoco es recomendable incluir capturas de pantalla**."
   ]
  },
  {
   "cell_type": "markdown",
   "metadata": {
    "datalore": {
     "hide_input_from_viewers": false,
     "hide_output_from_viewers": false,
     "node_id": "Tinwe1v9Wx9ZaC9NcMPB1a",
     "type": "MD"
    },
    "id": "6d1pBX3kZtk2"
   },
   "source": [
    "## 5. Presentación y evaluación\n",
    "\n",
    "Es muy recomendable realizar el trabajo por parejas, aunque se puede realizar de forma individual. El examen o entrevistas para la evaluación se realizarán la semana siguiente a la entrefa, y siempre de forma individual.\n",
    "\n",
    "Algunas consideraciones relacionadas con la evaluación:\n",
    "\n",
    "* Esta práctica cuenta un 40% de la nota de laboratorio. La segunda práctica necesitará la resolución previa de esta parte y cuenta un 60%.\n",
    "\n",
    "* La asistencia a las prácticas no es obligatoria, pero será la mejor base para resolver con éxito las prácticas.\n",
    "\n",
    "* Recordad que las dudas y preguntas sobre las prácticas de laboratorio deben resolverse principalmente en las sesiones de laboratorio.\n",
    "\n",
    "* Proporcionaremos un conjunto de casos de prueba preliminares que deben resolverse correctamente. En caso contrario, el trabajo se considerará no apto para su presentación.\n",
    "\n",
    "* Para obtener una puntuación en el práctica tendrás que responder, de forma individual, a una serie de preguntas sobre la organización del código y sobre cuestiones relacionadas.\n",
    "\n",
    "* **En la evaluación no continua se requerirá la implementación de las mismas estrategias de búsqueda más**:\n",
    "    * Búsqueda en profundidad limitada\n",
    "    * Búsqueda en profundidad iterativa\n",
    "    \n",
    "    ***También se pueden requerir características adicionales**."
   ]
  },
  {
   "cell_type": "markdown",
   "metadata": {
    "id": "D9UT8oWqe-16"
   },
   "source": [
    "# Practica 1"
   ]
  },
  {
   "cell_type": "markdown",
   "metadata": {},
   "source": [
    "### **Integrantes**"
   ]
  },
  {
   "cell_type": "markdown",
   "metadata": {},
   "source": [
    "#####     - Petru-Vlad Pasat\n",
    "#####     - Eduardo Molina Felipe"
   ]
  },
  {
   "cell_type": "markdown",
   "metadata": {},
   "source": [
    ">Aqui pondremos todos los imports que necesitemos, como por ejemplo **json** para poder leer el archivo que nos pasen y almacenar así su información, **queue** que la usaremos para utilizar PriorityQueue más adelante para los algoritmos de busqueda informada, **timeit** para determinar así el tiempo que tardará en ejecutarse cada algoritmo. Y por ultimo ABC que es para hacer una [**clase abstracta**][pagina]\n",
    "\n",
    "\n",
    "\n",
    "[pagina]: https://docs.python.org/3/library/abc.html"
   ]
  },
  {
   "cell_type": "code",
   "metadata": {
    "id": "GhUpXyN0mOTV",
    "ExecuteTime": {
     "end_time": "2025-07-06T16:24:45.301311Z",
     "start_time": "2025-07-06T16:24:45.283167Z"
    }
   },
   "source": [
    "  #Imports\n",
    "import json\n",
    "import math\n",
    "import queue\n",
    "import timeit\n",
    "import random\n",
    "from abc import abstractmethod, ABC"
   ],
   "outputs": [],
   "execution_count": 1
  },
  {
   "cell_type": "markdown",
   "metadata": {},
   "source": [
    "### **Problema**\n",
    "\n",
    ">La clase Problema nos sirve para instanciar el archivo el cual pasaremos por parametro y lo leeremos instanciando asi las variables necesarias.\n",
    "> Además en esta clase harémos el algoritmo del maximo el cual nos servirá más adelante para la Heuristica.\n",
    ">Hemos inicializado interseccionAccion y interseccionCoordenadas las cuales las dos son dos for, **interseccionCoordenadas** se recorrerá con la clave valor, el segundo for **interseccionAccion** por cada origin se guarda una lista de prioridades que engloba pares destino coste si es que el origin de segmentos coincide con la clave de dicho diccionario"
   ]
  },
  {
   "cell_type": "code",
   "metadata": {
    "id": "uHOCR9ASZtk3",
    "ExecuteTime": {
     "end_time": "2025-07-06T16:24:45.317848Z",
     "start_time": "2025-07-06T16:24:45.314369Z"
    }
   },
   "source": "",
   "outputs": [],
   "execution_count": null
  },
  {
   "cell_type": "markdown",
   "metadata": {},
   "source": [
    "### **Accion**"
   ]
  },
  {
   "cell_type": "code",
   "metadata": {
    "ExecuteTime": {
     "end_time": "2025-07-06T16:24:45.910231Z",
     "start_time": "2025-07-06T16:24:45.902030Z"
    }
   },
   "source": [
    "class Accion:\n",
    "    def __init__(self, origen, destino, coste):\n",
    "        self.origen = origen\n",
    "        self.destino = destino\n",
    "        self.costeAccion = coste\n",
    "\n",
    "    def __repr__(self):\n",
    "        return f\"Accion: {self.origen} --({self.coste})--> {self.destino}\""
   ],
   "outputs": [],
   "execution_count": 2
  },
  {
   "cell_type": "markdown",
   "metadata": {},
   "source": [
    "### **Estado**\n",
    "\n",
    ">En la clase estado, lo inicilizaremos con, id, longitud y latitud que más tarde será usados. Además de el metodo __eq__ que nos servirá para comparar así id's."
   ]
  },
  {
   "cell_type": "code",
   "metadata": {
    "id": "Btbsr7ezeb4_",
    "ExecuteTime": {
     "end_time": "2025-07-06T16:24:45.938102Z",
     "start_time": "2025-07-06T16:24:45.927527Z"
    }
   },
   "source": [
    "class Estado:\n",
    "\n",
    "    def __init__(self, id, longitud, latitud):\n",
    "        self.id = id\n",
    "        self.longitud = longitud\n",
    "        self.latitud = latitud\n",
    "\n",
    "    def __hash__(self):\n",
    "        return hash(self.id)\n",
    "\n",
    "    def __eq__(self, otro):\n",
    "        return self.id == otro.id\n",
    "\n",
    "    def __repr__(self):\n",
    "        return f\"Estado: {self.id}, {self.longitud}, {self.latitud}\""
   ],
   "outputs": [],
   "execution_count": 3
  },
  {
   "metadata": {
    "ExecuteTime": {
     "end_time": "2025-07-06T16:24:45.958634Z",
     "start_time": "2025-07-06T16:24:45.949637Z"
    }
   },
   "cell_type": "code",
   "source": [
    "import json\n",
    "import queue\n",
    "from collections import defaultdict\n",
    "class Problema:\n",
    "    def __init__(self, nombre_archivo):\n",
    "        with open(nombre_archivo, 'r') as archivo:\n",
    "            problema = json.load(archivo)\n",
    "\n",
    "        self.inicio = problema['initial']\n",
    "        self.final = problema['final']\n",
    "        self.acciones = defaultdict(list)\n",
    "        self.estados = {}\n",
    "        self.velMax = 0\n",
    "\n",
    "        for inter in problema['intersections']:\n",
    "            self.estados[inter['identifier']] = Estado(\n",
    "                inter['identifier'],\n",
    "                inter['longitude'],\n",
    "                inter['latitude']\n",
    "            )\n",
    "\n",
    "        self.estadoInicial = self.estados[self.inicio]\n",
    "        self.estadoFinal = self.estados[self.final]\n",
    "\n",
    "        for seg in problema['segments']:\n",
    "            origen = seg['origin']\n",
    "            destino = seg['destination']\n",
    "            vel = seg['speed']/3.6\n",
    "            tiempo = seg['distance'] / vel\n",
    "            self.velMax = max(self.velMax, seg['speed'])\n",
    "            self.acciones[origen].append(Accion(origen, destino, tiempo))\n",
    "        for origen in self.acciones:\n",
    "            self.acciones[origen].sort(key=lambda x: x.destino)"
   ],
   "outputs": [],
   "execution_count": 4
  },
  {
   "cell_type": "markdown",
   "metadata": {},
   "source": [
    "### **Nodo**\n",
    "\n",
    ">Nodo es una clase la cual nos servirá más adelante para ir resolviendo nuestro problema así pues, en el constructor le vamos a pasar, id, longitud, latitud, profundidad para así saber hasta donde llega el problema, padre nos servirá para que en la informada calcular su coste acumulado y coste para luego en las estadisticas mostrarlo y comprarlo con otros algoritmos puesto que cambia."
   ]
  },
  {
   "cell_type": "code",
   "metadata": {
    "id": "PCv8SIASedGk",
    "ExecuteTime": {
     "end_time": "2025-07-06T16:24:45.976320Z",
     "start_time": "2025-07-06T16:24:45.969151Z"
    }
   },
   "source": [
    "class Nodo:\n",
    "\n",
    "    def __init__(self, estado = None, accion = None, padre = None, costeAcumulado = 0.0):\n",
    "        self.estado = estado\n",
    "        self.accion = accion\n",
    "        self.padre = padre\n",
    "        self.costeAcumulado = costeAcumulado\n",
    "\n",
    "    def __repr__(self):\n",
    "        padre_id = self.padre.estado.id if self.padre is not None else None\n",
    "        return f\"Nodo(id={self.estado.id}, longitud={self.estado.longitud}, latitud={self.estado.latitud}, padre={padre_id}, costeAcumulado={self.costeAcumulado})\"\n",
    "\n",
    "    def __eq__(self, otro):\n",
    "        return isinstance(otro, Nodo) and self.estado == otro.estado\n",
    "\n",
    "    def __hash__(self):\n",
    "        return hash(self.estado)\n",
    "\n",
    "    def __lt__(self, otro):\n",
    "        return self.estado.id < otro.estado.id\n"
   ],
   "outputs": [],
   "execution_count": 5
  },
  {
   "cell_type": "markdown",
   "metadata": {},
   "source": [
    "### **Heuristica**\n",
    "\n",
    ">Aquí en esta clase calcularemos la **Heuristica de Manhattan** la cual se calculará sencillamente haciendo el absoluto de la suma de las restas de cada cordenada y luego dividida por la velMáx (la cual está pasada a m/s) para que así la heuristica nos de en segundos. "
   ]
  },
  {
   "cell_type": "code",
   "metadata": {
    "ExecuteTime": {
     "end_time": "2025-07-06T16:24:46.514755Z",
     "start_time": "2025-07-06T16:24:45.987691Z"
    }
   },
   "source": [
    "from geopy.distance import geodesic\n",
    "\n",
    "def heuristica_geodesica(estadoPresente, estadoMeta, velMax):\n",
    "\n",
    "    coord1 = (estadoPresente.latitud, estadoPresente.longitud)\n",
    "    coord2 = (estadoMeta.latitud, estadoMeta.longitud)\n",
    "\n",
    "    distancia_metros = geodesic(coord1, coord2).meters\n",
    "    velocidad_mps = velMax / 3.6\n",
    "\n",
    "    return distancia_metros / velocidad_mps\n"
   ],
   "outputs": [],
   "execution_count": 6
  },
  {
   "cell_type": "markdown",
   "metadata": {},
   "source": [
    "### **Busqueda**\n",
    "\n",
    ">La clase más importante puesto que esta clase será la cual todos los algoritmos hereden de ella, los metodos **insertarNodo**, **extraerNodo**, **vacio**, porque en cada algoritmo los usará de diferente manera estos metodos con la lista de Abiertos la cual heredará cada algoritmo y la usará de la manera que necesite, en informada será una PriorityQueue(). Buscar será el metodo principal, el algoritmo de la busqueda la cual hemos hecho un while mientras no este vacia la listaAbiertos (que dependiendo del algoritmo se manejará con un metodo vacio diferente) extraeremos un nodo de la lista de abiertos para expandirlo. "
   ]
  },
  {
   "cell_type": "code",
   "metadata": {
    "ExecuteTime": {
     "end_time": "2025-07-06T16:24:46.544262Z",
     "start_time": "2025-07-06T16:24:46.531809Z"
    }
   },
   "source": [
    "from datetime import timedelta\n",
    "class Busqueda(ABC):\n",
    "\n",
    "    def __init__(self, nombre_archivo):\n",
    "        self.problema = Problema(nombre_archivo)\n",
    "        self.listaExpantidos = set()\n",
    "        self.listaAbiertos = None\n",
    "        self.generados = 0\n",
    "        self.expandidos = 0\n",
    "\n",
    "    @abstractmethod\n",
    "    def insertarNodo(self, nodo, listaNodos):\n",
    "        pass\n",
    "\n",
    "    @abstractmethod\n",
    "    def extraerNodo(self, listaNodos):\n",
    "        pass\n",
    "\n",
    "    @abstractmethod\n",
    "    def vacio(self, listaNodos):\n",
    "        pass\n",
    "\n",
    "    def buscar(self):\n",
    "        listaExpandidos = set()\n",
    "        self.generados = 0\n",
    "        expandidos = 0\n",
    "        generados = 0\n",
    "        tiempo_inicio = timeit.default_timer()\n",
    "        self.listaAbiertos = self.insertarNodo(Nodo(self.problema.estadoInicial), self.listaAbiertos)\n",
    "        while not self.vacio(self.listaAbiertos):\n",
    "            nodo = self.extraerNodo(self.listaAbiertos)\n",
    "            if nodo not in listaExpandidos:\n",
    "                listaExpandidos.add(nodo)\n",
    "                if nodo.estado == self.problema.estadoFinal:\n",
    "                    segundos = timeit.default_timer() - tiempo_inicio\n",
    "                    x = self.camino(segundos, expandidos, generados, nodo)\n",
    "                    print(\"Retorno del metodo buscar() = Exito\")\n",
    "                    return x\n",
    "\n",
    "                acciones = self.problema.acciones[nodo.estado.id]\n",
    "                for accion in acciones:\n",
    "                    nuevo_nodo = Nodo(\n",
    "                        self.problema.estados[accion.destino],\n",
    "                        accion,\n",
    "                        nodo,\n",
    "                        nodo.costeAcumulado + accion.costeAccion\n",
    "                    )\n",
    "                    generados += 1\n",
    "                    self.insertarNodo(nuevo_nodo, self.listaAbiertos)\n",
    "\n",
    "                expandidos += 1\n",
    "\n",
    "        print(\"Retorno del metodo buscar() = Fracaso\")\n",
    "        return [None, None, None, None, None]\n",
    "\n",
    "    def camino(self, segundos, expandidos, generados, nodoExpandido):\n",
    "        nodo = nodoExpandido\n",
    "        lista = []\n",
    "        longitud = 0\n",
    "\n",
    "        # Reconstruimos la lista de pasos\n",
    "        while nodo.padre is not None:\n",
    "            coste_parcial = nodo.costeAcumulado - nodo.padre.costeAcumulado\n",
    "            lista.append((nodo.padre.estado.id, nodo.estado.id, coste_parcial))\n",
    "            nodo = nodo.padre\n",
    "            longitud += 1\n",
    "\n",
    "        lista = list(reversed(lista))\n",
    "\n",
    "        # Formato de estadísticas\n",
    "        print(f\"Generated nodes: {generados}\")\n",
    "        print(f\"Expanded nodes: {expandidos}\")\n",
    "        print(f\"Execution time: {timedelta(seconds=segundos)}\")\n",
    "        print(f\"Solution length: {longitud}\")\n",
    "        print(f\"Solution cost: {timedelta(seconds=nodoExpandido.costeAcumulado)}\")\n",
    "\n",
    "        # Formato de solución paso a paso\n",
    "        pasos = []\n",
    "        for origen, destino, coste in lista:\n",
    "            pasos.append(f\"{origen} → {destino} ({coste})\")\n",
    "        print(f\"Solution: [{', '.join(pasos)}]\")\n",
    "\n",
    "        return [nodoExpandido.costeAcumulado, longitud, generados, expandidos, segundos]\n"
   ],
   "outputs": [],
   "execution_count": 7
  },
  {
   "cell_type": "markdown",
   "metadata": {},
   "source": [
    "### **Busqueda por Anchura**\n",
    "\n",
    ">Aqui en busqueda por anchura hemos inicializado la listaAbiertos como una lista que es como de debería, y en insertar será un append del nodo pasado por parametro y en extraer un pop(0) remueve el primer elemento de esta."
   ]
  },
  {
   "cell_type": "code",
   "metadata": {
    "ExecuteTime": {
     "end_time": "2025-07-06T16:24:46.585537Z",
     "start_time": "2025-07-06T16:24:46.548895Z"
    }
   },
   "source": [
    "class BusquedaAnchura(Busqueda):\n",
    "\n",
    "    def __init__(self, nombre_archivo):\n",
    "        super().__init__(nombre_archivo)\n",
    "        self.listaAbiertos = []\n",
    "\n",
    "    def insertarNodo(self, nodo, listaNodos):\n",
    "        listaNodos.append(nodo)\n",
    "        return listaNodos\n",
    "\n",
    "    def extraerNodo(self, listaNodos):\n",
    "        valor = listaNodos.pop(0)\n",
    "        return valor\n",
    "\n",
    "    def vacio(self, listaNodos):\n",
    "        return len(listaNodos) == 0\n",
    "        "
   ],
   "outputs": [],
   "execution_count": 8
  },
  {
   "cell_type": "markdown",
   "metadata": {},
   "source": [
    "### **Busqueda por profundidad**\n",
    "\n",
    ">Profundidad funciona igual a la hora de manejar la lista de abiertos, pero en este caso manejaremos insertarNodo con un .insert con indice y nodo, y con un pop() solo en extraerNodo.\n"
   ]
  },
  {
   "cell_type": "code",
   "metadata": {
    "ExecuteTime": {
     "end_time": "2025-07-06T16:24:46.600662Z",
     "start_time": "2025-07-06T16:24:46.594660Z"
    }
   },
   "source": [
    "class BusquedaProfundidad(Busqueda):\n",
    "\n",
    "    def __init__(self, nombre_archivo):\n",
    "        super().__init__(nombre_archivo)\n",
    "        self.listaAbiertos = []\n",
    "\n",
    "    def insertarNodo(self, nodo, listaNodos):\n",
    "        listaNodos.append(nodo)\n",
    "        return listaNodos\n",
    "\n",
    "    def extraerNodo(self, listaNodos):\n",
    "        valor = listaNodos.pop()\n",
    "        return valor\n",
    "\n",
    "    def vacio(self, listaNodos):\n",
    "        return len(listaNodos) == 0"
   ],
   "outputs": [],
   "execution_count": 9
  },
  {
   "cell_type": "markdown",
   "metadata": {},
   "source": [
    "### **Busqueda el primero mejor**\n",
    "\n",
    ">En primero mejor manejaremos PriorityQueue, \"Cola de prioridades\" para asi ordenar cada nodo por orden de coste, lo cual haría todo mucho más facil."
   ]
  },
  {
   "cell_type": "code",
   "metadata": {
    "ExecuteTime": {
     "end_time": "2025-07-06T16:24:46.630332Z",
     "start_time": "2025-07-06T16:24:46.623510Z"
    }
   },
   "source": [
    "class PrimeroMejor(Busqueda):\n",
    "\n",
    "    def __init__(self, nombre_archivo):\n",
    "        super().__init__(nombre_archivo)\n",
    "        self.listaAbiertos = queue.PriorityQueue()\n",
    "\n",
    "    def insertarNodo(self, nodo, listaNodos):\n",
    "        distanta = heuristica_geodesica(nodo.estado, self.problema.estadoFinal, self.problema.velMax)\n",
    "        listaNodos.put((distanta, nodo))\n",
    "        return listaNodos\n",
    "\n",
    "    def extraerNodo(self, listaNodos):\n",
    "        extract = listaNodos.get()\n",
    "        return extract[1]\n",
    "\n",
    "    def vacio(self, listaNodos):\n",
    "        return self.listaAbiertos.empty()"
   ],
   "outputs": [],
   "execution_count": 10
  },
  {
   "cell_type": "markdown",
   "metadata": {},
   "source": [
    "### **Busqueda por A estrella**\n",
    "\n",
    ">En A estrella igual que en primero mejor usaremos PriorityQueue ya que gracias a esta nos aseguraremos que esten ordenados ya que es una cola de prioridades en este caso la prioridad será su coste acumulado, ya que necesitaremos la heuristica para ello."
   ]
  },
  {
   "cell_type": "code",
   "metadata": {
    "ExecuteTime": {
     "end_time": "2025-07-06T16:24:46.648181Z",
     "start_time": "2025-07-06T16:24:46.641869Z"
    }
   },
   "source": [
    "class AEstrella(Busqueda):\n",
    "\n",
    "    def __init__(self, nombre_archivo):\n",
    "        super().__init__(nombre_archivo)\n",
    "        self.listaAbiertos = queue.PriorityQueue()\n",
    "\n",
    "    def insertarNodo(self, nodo, listaNodos):\n",
    "        g = nodo.costeAcumulado\n",
    "        vel = 1\n",
    "        h = heuristica_geodesica(nodo.estado, self.problema.estadoFinal, self.problema.velMax)\n",
    "        f = g + h\n",
    "        listaNodos.put((f, nodo))\n",
    "        return listaNodos\n",
    "\n",
    "    def extraerNodo(self, listaNodos):\n",
    "        return listaNodos.get()[1]\n",
    "\n",
    "    def vacio(self, listaNodos):\n",
    "        return self.listaAbiertos.empty()"
   ],
   "outputs": [],
   "execution_count": 11
  },
  {
   "metadata": {
    "ExecuteTime": {
     "end_time": "2025-07-06T16:24:46.770036Z",
     "start_time": "2025-07-06T16:24:46.658496Z"
    }
   },
   "cell_type": "code",
   "source": [
    "if __name__ == \"__main__\":\n",
    "    nombre_archivo = r\"C:\\Users\\pasat\\OneDrive\\Desktop\\Inteli\\Prac1\\examples_with_solutions\\problems\\huge\\calle_cardenal_tabera_y_araoz_albacete_2000_1.json\"\n",
    "    print(\"\\n\\n\\n=========   DFS   ==========\")\n",
    "    z = BusquedaProfundidad(nombre_archivo)\n",
    "    z.buscar()\n",
    "\n",
    "    print(\"\\n\\n\\n=========   BFS   ==========\")\n",
    "    z = BusquedaAnchura(nombre_archivo)\n",
    "    z.buscar()\n",
    "\n",
    "    print(\"\\n\\n\\n=========   Primero mejor   ==========\")\n",
    "    z = PrimeroMejor(nombre_archivo)\n",
    "    z.buscar()\n",
    "\n",
    "    print(\"\\n\\n\\n=========   A*   ==========\")\n",
    "    z = AEstrella(nombre_archivo)\n",
    "    z.buscar()\n",
    "\n"
   ],
   "outputs": [
    {
     "name": "stdout",
     "output_type": "stream",
     "text": [
      "\n",
      "\n",
      "\n",
      "=========   DFS   ==========\n",
      "Generated nodes: 2510\n",
      "Expanded nodes: 1296\n",
      "Execution time: 0:00:00.005517\n",
      "Solution length: 66\n",
      "Solution cost: 0:08:09.119400\n",
      "Solution: [772970924 → 2822641953 (3.43992), 2822641953 → 11787944276 (2.034), 11787944276 → 1529477757 (10.32312), 1529477757 → 1529477781 (7.82976), 1529477781 → 1534218793 (10.679639999999996), 1534218793 → 1534218779 (6.631320000000002), 1534218779 → 435465423 (7.771679999999996), 435465423 → 1837752577 (16.21152), 1837752577 → 1255528464 (15.47148), 1255528464 → 1255528489 (18.39828), 1255528489 → 1529477782 (10.79544), 1529477782 → 1529477783 (9.109920000000002), 1529477783 → 1255547627 (10.823759999999993), 1255547627 → 1529570537 (10.874400000000009), 1529570537 → 1580940744 (2.0356800000000135), 1580940744 → 1972430537 (9.95532), 1972430537 → 1972430544 (1.9035599999999988), 1972430544 → 434369348 (11.933879999999988), 434369348 → 11303171544 (1.5806399999999883), 11303171544 → 1529803131 (0.9297599999999875), 1529803131 → 1529803155 (2.3798400000000015), 1529803155 → 1836701449 (16.601640000000003), 1836701449 → 1838958617 (10.414080000000013), 1838958617 → 1838958632 (10.257119999999986), 1838958632 → 1838958612 (8.50200000000001), 1838958612 → 1838958629 (8.458200000000005), 1838958629 → 1994436318 (8.456520000000012), 1994436318 → 569203716 (17.108280000000008), 569203716 → 1542527083 (8.105879999999985), 1542527083 → 1845484952 (10.165320000000008), 1845484952 → 1846799917 (3.349080000000015), 1846799917 → 1846799860 (3.2962800000000243), 1846799860 → 569283039 (9.487799999999993), 569283039 → 569269854 (0.9039599999999837), 569269854 → 1846794076 (0.7103999999999928), 1846794076 → 1530009759 (23.860799999999983), 1530009759 → 1846799864 (1.6322400000000243), 1846799864 → 1846799914 (2.4919199999999933), 1846799914 → 1846799897 (0.5821199999999749), 1846799897 → 1846799846 (2.2233600000000138), 1846799846 → 579337054 (19.199400000000026), 579337054 → 444000984 (2.687279999999987), 444000984 → 5009413166 (5.252639999999985), 5009413166 → 1530009783 (6.919199999999989), 1530009783 → 1635414168 (5.630400000000009), 1635414168 → 338700479 (6.014040000000023), 338700479 → 1635414150 (2.246399999999994), 1635414150 → 1529803128 (1.7875199999999722), 1529803128 → 335902337 (1.7845199999999863), 335902337 → 1526053382 (5.122799999999984), 1526053382 → 1836701463 (4.057799999999986), 1836701463 → 497073943 (7.4658000000000015), 497073943 → 335902340 (1.282199999999989), 335902340 → 1836701467 (4.358159999999998), 1836701467 → 1307889216 (11.132400000000018), 1307889216 → 1529478076 (13.607160000000022), 1529478076 → 1618101330 (1.4338799999999878), 1618101330 → 1628459242 (8.638800000000003), 1628459242 → 1529477859 (4.0926000000000045), 1529477859 → 1529477861 (3.8798400000000015), 1529477861 → 1529478001 (10.589639999999974), 1529478001 → 1618101327 (3.9846000000000004), 1618101327 → 1307889215 (4.1216400000000135), 1307889215 → 1836701507 (11.630640000000028), 1836701507 → 1628459238 (12.32711999999998), 1628459238 → 1837752453 (12.15300000000002)]\n",
      "Retorno del metodo buscar() = Exito\n",
      "\n",
      "\n",
      "\n",
      "=========   DFS   ==========\n",
      "Generated nodes: 287\n",
      "Expanded nodes: 154\n",
      "Execution time: 0:00:00.000421\n",
      "Solution length: 12\n",
      "Solution cost: 0:01:33.224760\n",
      "Solution: [772970924 → 2822641953 (3.43992), 2822641953 → 11787944276 (2.034), 11787944276 → 672069214 (0.9811199999999998), 672069214 → 435465423 (10.097159999999999), 435465423 → 1837752577 (16.21152), 1837752577 → 1255528464 (15.47148), 1255528464 → 672689819 (6.721559999999997), 672689819 → 1255528484 (12.245039999999996), 1255528484 → 672687840 (1.3101599999999962), 672687840 → 1529570530 (2.855879999999999), 1529570530 → 1307889214 (9.811080000000004), 1307889214 → 1837752453 (12.045839999999998)]\n",
      "Retorno del metodo buscar() = Exito\n",
      "\n",
      "\n",
      "\n",
      "=========   Primero mejor   ==========\n",
      "Generated nodes: 33\n",
      "Expanded nodes: 15\n",
      "Execution time: 0:00:00.004589\n",
      "Solution length: 15\n",
      "Solution cost: 0:02:05.382000\n",
      "Solution: [772970924 → 2822641953 (3.43992), 2822641953 → 11787944276 (2.034), 11787944276 → 1529477757 (10.32312), 1529477757 → 1529477781 (7.82976), 1529477781 → 1534218793 (10.679639999999996), 1534218793 → 1534218779 (6.631320000000002), 1534218779 → 435465423 (7.771679999999996), 435465423 → 1837752577 (16.21152), 1837752577 → 1255528464 (15.47148), 1255528464 → 672689819 (6.721559999999997), 672689819 → 1255528484 (12.245040000000003), 1255528484 → 672687840 (1.3101599999999962), 672687840 → 1529570530 (2.855879999999999), 1529570530 → 1307889214 (9.811080000000004), 1307889214 → 1837752453 (12.045839999999998)]\n",
      "Retorno del metodo buscar() = Exito\n",
      "\n",
      "\n",
      "\n",
      "=========   A*   ==========\n",
      "Generated nodes: 155\n",
      "Expanded nodes: 78\n",
      "Execution time: 0:00:00.015949\n",
      "Solution length: 12\n",
      "Solution cost: 0:01:22.085280\n",
      "Solution: [772970924 → 2822641953 (3.43992), 2822641953 → 11787944276 (2.034), 11787944276 → 672069214 (0.9811199999999998), 672069214 → 435465423 (10.097159999999999), 435465423 → 1837752577 (16.21152), 1837752577 → 1255528464 (15.47148), 1255528464 → 672689819 (6.721559999999997), 672689819 → 1529570474 (1.0775999999999968), 1529570474 → 1529570534 (3.6121199999999973), 1529570534 → 1529477879 (5.159759999999999), 1529477879 → 1307889214 (5.2331999999999965), 1307889214 → 1837752453 (12.045839999999998)]\n",
      "Retorno del metodo buscar() = Exito\n"
     ]
    }
   ],
   "execution_count": 12
  }
 ],
 "metadata": {
  "colab": {
   "provenance": []
  },
  "datalore": {
   "base_environment": "default",
   "computation_mode": "JUPYTER",
   "package_manager": "pip",
   "packages": [
    {
     "name": "pqueue",
     "source": "PIP",
     "version": "0.1.7"
    },
    {
     "name": "geopy",
     "source": "PIP",
     "version": "2.2.0"
    }
   ],
   "version": 1
  },
  "kernelspec": {
   "display_name": "Python 3 (ipykernel)",
   "language": "python",
   "name": "python3"
  },
  "language_info": {
   "codemirror_mode": {
    "name": "ipython",
    "version": 3
   },
   "file_extension": ".py",
   "mimetype": "text/x-python",
   "name": "python",
   "nbconvert_exporter": "python",
   "pygments_lexer": "ipython3",
   "version": "3.11.6"
  },
  "latex_envs": {
   "LaTeX_envs_menu_present": true,
   "autoclose": false,
   "autocomplete": true,
   "bibliofile": "biblio.bib",
   "cite_by": "apalike",
   "current_citInitial": 1,
   "eqLabelWithNumbers": true,
   "eqNumInitial": 1,
   "hotkeys": {
    "equation": "Ctrl-E",
    "itemize": "Ctrl-I"
   },
   "labels_anchors": false,
   "latex_user_defs": false,
   "report_style_numbering": false,
   "user_envs_cfg": false
  },
  "vscode": {
   "interpreter": {
    "hash": "b2fdad1bafe026d053b4602f2179e2296ea0334d2d9ae4e6300a3a67b6dd2231"
   }
  }
 },
 "nbformat": 4,
 "nbformat_minor": 4
}
