{
 "cells": [
  {
   "cell_type": "markdown",
   "metadata": {},
   "source": [
    "# Sistemas Inteligentes\n",
    "\n",
    "## Curso académico 2024-2025\n",
    "\n",
    "### Práctica 1: Búsqueda en espacio de estados\n",
    "\n",
    "#### Profesores\n",
    "\n",
    "* Juan Carlos Alfaro Jiménez: JuanCarlos.Alfaro@uclm.es\n",
    "* María Julia Flores Gallego: Julia.Flores@uclm.es\n",
    "* Ismael García Varea: Ismael.Garcia@uclm.es\n",
    "* Adrián Rodríguez López: Adrian.Rodriguez18@alu.uclm.es"
   ]
  },
  {
   "cell_type": "markdown",
   "metadata": {
    "datalore": {
     "hide_input_from_viewers": false,
     "hide_output_from_viewers": false,
     "node_id": "BJiz7lonyeROocVlcYrKWu",
     "type": "MD"
    }
   },
   "source": [
    "## ¡Conducción autónoma!"
   ]
  },
  {
   "cell_type": "markdown",
   "metadata": {
    "datalore": {
     "hide_input_from_viewers": false,
     "hide_output_from_viewers": false,
     "node_id": "BJiz7lonyeROocVlcYrKWu",
     "type": "MD"
    }
   },
   "source": [
    "## 1. Introducción\n",
    "\n",
    "En el marco de un proyecto piloto del **Ministerio de Transportes y Movilidad Sostenible**, cuyo objetivo es proporcionar un servicio de desplazamiento urbano personalizado para personas con movilidad reducida, se nos ha encargado el estudio del despliegue de una flota de vehículos autónomos en diferentes localidades y ciudades del país en función de una serie de indicadores (tamaño de la población, densidad de población, demanda del servicio, etc.). Dichos vehículos autónomos deberán disponer de un sistema de conducción inteligente que permita a dichos vehículos llevar a una serie de personas desde un punto de origen hasta su destino de manera segura y eficiente.\n",
    "\n",
    "Dentro del proyecto, **por el momento, se nos pide diseñar un algoritmo que sea capaz de optimizar el transporte a una persona desde un lugar de origen a un destino específico** dentro de una ciudad. En este escenario, el vehículo autónomo deberá navegar por una red de calles e intersecciones urbanas, donde todas las rutas son potencialmente válidas. Sin embargo, **el sistema debe optimizar la selección del camino** no solo para encontrar una ruta válida, sino también para **minimizar el tiempo de recorrido**. Esto implica que la inteligencia artificial debe considerar factores como la distancia, la velocidad permitida en cada calle y cualquier otro factor relevante que pueda afectar al tiempo total del trayecto."
   ]
  },
  {
   "cell_type": "markdown",
   "metadata": {},
   "source": [
    "### 1.1. Objetivos de la práctica\n",
    "\n",
    "* Implementar las estrategias de búsqueda no informada **primero en anchura** y **primero en profundidad** para encontrar un camino desde el punto de partida hasta un lugar de destino.\n",
    "\n",
    "* Implementar las estrategias de búsqueda informada **primero mejor** y **A\\*** utilizando heurísticas apropiadas para resolver el problema en cuestión.\n",
    "\n",
    "En este trabajo pondremos en práctica las técnicas de búsqueda en estado de espacios. Para ello, se implementarán y utilizarán algunos de los algoritmos vistos en los temas dos y tres para resolver un problema clásico, esto es, buscar rutas en un grafo.\n",
    "\n",
    "También analizaremos y compararemos el rendimiento de los algoritmos ejecutándolos en diferentes instancias del problema y proporcionando distintos estados inicial y objetivo.\n",
    "\n",
    "Esperamos que esta práctica os ayude a profundizar en vuestra comprensión de las estrategias de búsqueda en inteligencia artificial y os anime a pensar en cómo se pueden aplicar estas técnicas en situaciones del mundo real para ayudar en operaciones de navegación y otras tareas críticas.\n",
    "\n",
    "**¡Buena suerte!**"
   ]
  },
  {
   "cell_type": "markdown",
   "metadata": {
    "datalore": {
     "hide_input_from_viewers": false,
     "hide_output_from_viewers": false,
     "node_id": "kf129lUYKXkYfl7kIPcDlq",
     "type": "MD"
    }
   },
   "source": [
    "## 2. Descripción del problema\n",
    "\n",
    "Deberéis resolver un problema en el que un vehículo autónomo debe encontrar la ruta más rápida entre dos intersecciones cualesquiera en una ciudad. El espacio de búsqueda está definido por un sistema vial urbano donde el vehículo puede moverse en varias direcciones para alcanzar su destino.\n",
    "\n",
    "Más formalmente, el problema se puede definir como:\n",
    "\n",
    "* Estado inicial: Un punto de partida que representa la intersección inicial del vehículo.\n",
    "* Estados: Todas las intersecciones de la ciudad son válidas para el tránsito y pueden ser visitadas por el vehículo.\n",
    "* Estado final: Llegar a la intersección de destino.\n",
    "* Acciones: Moverse de una intersección a otra a través de las calles de la ciudad."
   ]
  },
  {
   "cell_type": "markdown",
   "metadata": {},
   "source": [
    "### 2.1. Ejemplo ilustrativo:\n",
    "\n",
    "Un posible ejemplo de este problema podría ser el que se muestra en la siguiente imagen, que muestra una parte de la ciudad de Albacete:\n",
    "\n",
    "![title](figures/small/paseo_simon_abril_250_1.png)\n",
    "\n",
    "En este caso, el objetivo sería ir de la intersección con identificador `621983933`, representada en color verde; a la intersección con identificador `1322977378`, representada en color azul.\n",
    "\n",
    "---\n",
    "\n",
    "##### Nota:\n",
    "\n",
    "* El archivo de contiene la imagen debe guardarse en la ruta indicada en el código de esta celda.\n",
    "\n",
    "---"
   ]
  },
  {
   "cell_type": "markdown",
   "metadata": {
    "datalore": {
     "hide_input_from_viewers": false,
     "hide_output_from_viewers": false,
     "node_id": "6gYL6VoT3okFgLpKvyyAq7",
     "type": "MD"
    }
   },
   "source": [
    "## 3. Desarrollo de la práctica\n",
    "\n",
    "Durante el desarrollo de la práctica, se hará entrega un conjunto de instancias de problemas. La dimensionalidad será variable, y los algoritmos implementados deberán ser lo suficientemente eficientes para funcionar correctamente con todas las instancias proporcionadas. En la evaluación de la práctica se realizará con escenarios diferentes a los proporcionados, generados de forma automática y de diferente dimensionalidad."
   ]
  },
  {
   "cell_type": "markdown",
   "metadata": {},
   "source": [
    "### 3.1 Problemas de entrada\n",
    "\n",
    "Cada escenario vendrá dado en un archivo en formato `json` que contiene la siguiente información, siguiendo el formato de un diccionario cuyas claves son:\n",
    "\n",
    "* `address`: Dirección utilizada\n",
    "* `distance`: Radio máximo utilizado para sacar las intersecciones y segmentos alrededor de la dirección\n",
    "* `intersections`: Lista de diccionarios con la información de las intersecciones\n",
    "* `segments`: Lista de diccionarios con la información de los segmentos, esto es, calles entre dos intersecciones\n",
    "* `initial`: Intersección inicial\n",
    "* `final`: Intersección final\n",
    "\n",
    "En cada diccionario en `intersections`, hay tres claves:\n",
    "\n",
    "* `identifier`: Identificador de la intersección\n",
    "* `longitude`: Longitud de la intersección\n",
    "* `latitude`: Latitud de la intersección\n",
    "\n",
    "En cada diccionario en `segments`, hay cuatro claves:\n",
    "\n",
    "* `origin`: Intersección origen\n",
    "* `destination`: Intersección destino\n",
    "* `distance`: Distancia entre las dos intersecciones\n",
    "* `speed`: Velocidad máxima permitida entre las dos intersecciones"
   ]
  },
  {
   "cell_type": "markdown",
   "metadata": {
    "datalore": {
     "hide_input_from_viewers": false,
     "hide_output_from_viewers": false,
     "node_id": "XqiqZwKKFJXYVAdvmfoLoK",
     "type": "MD"
    }
   },
   "source": [
    "## 4. Plan de trabajo"
   ]
  },
  {
   "cell_type": "markdown",
   "metadata": {},
   "source": [
    "### 4.1. Tareas a realizar\n",
    "\n",
    "* Diseño del espacio de estados:\n",
    "    * Describir cómo se representará el espacio de estados, las acciones y el coste de las acciones.\n",
    "\n",
    "\n",
    "* Implementación de estrategias de búsqueda:\n",
    "    * Implementar al menos dos estrategias de búsqueda no informada.\n",
    "    * Implementar al menos dos estrategias de búsqueda informada, utilizando heurísticas adecuadas para encontrar rutas óptimas.\n",
    "\n",
    "\n",
    "* Experimentación y análisis:\n",
    "    * Analizar el rendimiento de las estrategias implementadas en términos de optimización de tiempo, espacio y rutas.\n",
    "    * Comparar y contrastar los resultados obtenidos de las diferentes estrategias de búsqueda.\n",
    "\n",
    "\n",
    "* Informe:\n",
    "    * Redactar un informe detallando el proceso seguido, las estrategias implementadas y los resultados obtenidos.\n",
    "\n",
    "\n",
    "A continuación se proporcionan más detalles de cada tarea."
   ]
  },
  {
   "cell_type": "markdown",
   "metadata": {},
   "source": [
    "### 4.2. Evaluación de la práctica\n",
    "\n",
    "La evaluación de la práctica se realizará mediante un examen individual en la que tendrá en cuenta:\n",
    "\n",
    "* La correcta implementación de las estrategias de búsqueda: 50%\n",
    "* El diseño del espacio de estados y heurísticas: 25%\n",
    "* La experimentación realizada y el análisis de resultados: 25%\n",
    "\n",
    "Todo ello ponderado por nivel de conocimiento que el estudiante ofrezca de la práctica en caso de que el examen sea una entrevista personal."
   ]
  },
  {
   "cell_type": "markdown",
   "metadata": {},
   "source": [
    "### 4.3. Fechas\n",
    "\n",
    "* Fecha límite para enviar el código: **31 de octubre de 2024**\n",
    "* Plazo de presentación del informe: **Final del cuatrimestre**"
   ]
  },
  {
   "cell_type": "markdown",
   "metadata": {},
   "source": [
    "### 4.4. Formalización del problema y ejemplos\n",
    "\n",
    "En primer lugar, la búsqueda de rutas en una ciudad debe formalizarse como un problema de búsqueda en espacio de estados, definiendo sus elementos básicos. Todas las implementaciones deben hacer referencia a la búsqueda en grafos, por lo que es importante tener en cuenta que se deben controlar los estados repetidos."
   ]
  },
  {
   "cell_type": "markdown",
   "metadata": {},
   "source": [
    "### 4.5. Implementación\n",
    "\n",
    "La implementación deberá realizarse en lenguaje `Python`. Para ello deberéis codificar vuestra propia estructura de clases para la formalización del problema y, posteriormente, implementar los algoritmos estudiados en las clases de teoría para resolver el problema de búsqueda planteado. Recomendamos crear una clase por cada entidad que define un problema de búsqueda, a saber, estado, acción, nodo, problema, búsqueda, etc.\n",
    "\n",
    "**Se recomienda probar cada una de las clases creadas tras su implementación para comprobar su correcto funcionamiento antes de integrarlas en el resto del código.**\n",
    "\n",
    "---\n",
    "\n",
    "##### Notas:\n",
    "\n",
    "* El orden de las acciones viene determinado por el estado destino cuyo identificador sea menor, es decir en caso de que en un punto dado (intersección) se puedan alcanzar diferentes destinos (parciales) se visitarán siguiendo un orden numérico creciente. Lo mismo aplica en caso de empate en los algoritmos de búsqueda informados.\n",
    "\n",
    "---"
   ]
  },
  {
   "cell_type": "code",
   "metadata": {
    "ExecuteTime": {
     "end_time": "2025-07-05T17:27:04.894124Z",
     "start_time": "2025-07-05T17:27:04.889987Z"
    }
   },
   "source": [
    "\n",
    "\n"
   ],
   "outputs": [],
   "execution_count": null
  },
  {
   "cell_type": "code",
   "metadata": {
    "ExecuteTime": {
     "end_time": "2025-07-05T17:27:04.907940Z",
     "start_time": "2025-07-05T17:27:04.896143Z"
    }
   },
   "source": [
    "class Estado:\n",
    "    def __init__(self, identifier, longitude, latitude):\n",
    "        self.identifier = identifier\n",
    "        self.longitude = longitude\n",
    "        self.latitude = latitude\n",
    "\n",
    "    def __hash__(self): #para comparar estados, lo hacemos a través de su identificador\n",
    "        return hash(self.identifier)\n",
    "\n",
    "    def __str__(self):\n",
    "        return f\"{self.identifier}, {self.longitude}, {self.latitude}\"\n",
    "    \n",
    "    def __repr__(self):\n",
    "        return f\"{self.identifier}, {self.longitude}, {self.latitude}\""
   ],
   "outputs": [],
   "execution_count": 1
  },
  {
   "cell_type": "code",
   "metadata": {
    "ExecuteTime": {
     "end_time": "2025-07-05T17:27:05.198034Z",
     "start_time": "2025-07-05T17:27:05.191217Z"
    }
   },
   "source": [
    "class Accion:\n",
    "    def __init__(self, origin, destination, distance, speed):\n",
    "        self.origin = origin\n",
    "        self.destination = destination\n",
    "        self.coste = ((distance/1000)/(speed/(3600))) #conversion, nos quedamos con los segundos\n",
    "\n",
    "    def __lt__(self, other): #en caso de igualdad, para que el programa sepa cual coger\n",
    "        return self.destination < other.destination\n",
    "\n",
    "    def __str__(self):\n",
    "        return f\"{self.origin}, {self.destination}, {self.coste}\"\n",
    "\n",
    "    def __repr__(self):\n",
    "        return f\"{self.origin}, {self.destination}, {self.coste}\"\n"
   ],
   "outputs": [],
   "execution_count": 2
  },
  {
   "cell_type": "code",
   "metadata": {
    "ExecuteTime": {
     "end_time": "2025-07-05T17:27:05.214070Z",
     "start_time": "2025-07-05T17:27:05.204749Z"
    }
   },
   "source": [
    "class Nodo:\n",
    "    def __init__(self, estado, padre=None, accion=None):\n",
    "        self.estado = estado\n",
    "        self.padre = padre\n",
    "        self.accion = accion\n",
    "        if padre:\n",
    "            self.coste = accion.coste + padre.coste\n",
    "            self.profundidad = padre.profundidad + 1\n",
    "        else:\n",
    "            self.coste=0\n",
    "            self.profundidad=0\n",
    "    def __lt__(self, other): #en caso de igualdad, para que el programa sepa cual coger\n",
    "        return self.estado.identifier < other.estado.identifier\n",
    "\n",
    "    def __str__(self):\n",
    "        return f\"{self.estado}, {self.padre}, {self.accion}, {self.coste}, {self.profundidad}\"\n",
    "     \n",
    "    def __repr__(self):\n",
    "        return f\"{self.estado}, {self.padre}, {self.accion}, {self.coste}, {self.profundidad}\"\n",
    "    \n",
    "     "
   ],
   "outputs": [],
   "execution_count": 3
  },
  {
   "cell_type": "code",
   "metadata": {
    "ExecuteTime": {
     "end_time": "2025-07-05T17:27:05.230258Z",
     "start_time": "2025-07-05T17:27:05.221296Z"
    }
   },
   "source": [
    "import json\n",
    "from queue import PriorityQueue\n",
    "from collections import deque\n",
    "\n",
    "class Problema:\n",
    "    def __init__(self, ruta):\n",
    "        with open(ruta, 'r') as file:\n",
    "            data = json.load(file)\n",
    "        #creamos un diccionario con las intersecciones\n",
    "        self.estados = {i[\"identifier\"]: Estado(i[\"identifier\"], i[\"longitude\"], i[\"latitude\"]) for i in data['intersections']} \n",
    "        self.estado_inicial = self.estados[data[\"initial\"]]\n",
    "        self.estado_objetivo = self.estados[data[\"final\"]]\n",
    "        self.contador_speed= 0\n",
    "        data['segments'].sort(key=lambda x: x['destination'])\n",
    "        self.acciones_ordenadas = data['segments'] #indicarle como hacer el sort, por menor destination en los diccionarios del data\n",
    "\n",
    "        self.acciones={}\n",
    "        #guardamos los segmentos para utilizarlos posteriormente\n",
    "        for s in self.acciones_ordenadas:  \n",
    "            if s['origin'] not in self.acciones :\n",
    "                self.acciones[s[\"origin\"]] = []\n",
    "            accion = Accion(s[\"origin\"], s[\"destination\"], s[\"distance\"], s[\"speed\"])\n",
    "            self.acciones[s[\"origin\"]].append(accion)\n",
    "            self.contador_speed=max(s[\"speed\"], self.contador_speed)\n",
    "        \n",
    "        self.contador_speed= self.contador_speed * 3.6\n",
    "                     \n",
    "    # Función para comprobar si hemos llegado al final del problema\n",
    "    def es_objetivo(self, estado):\n",
    "        return estado.identifier == self.estado_objetivo.identifier\n",
    "    \n",
    "\n",
    "\n"
   ],
   "outputs": [],
   "execution_count": 4
  },
  {
   "cell_type": "code",
   "metadata": {
    "ExecuteTime": {
     "end_time": "2025-07-05T17:27:05.254306Z",
     "start_time": "2025-07-05T17:27:05.243001Z"
    }
   },
   "source": [
    "from abc import ABC, abstractmethod\n",
    "import time, math\n",
    "\n",
    "\n",
    "class AlgoritmoBusqueda(ABC):\n",
    "    def __init__(self, problema):\n",
    "        self.problema = problema\n",
    "        self.cerrados = set()\n",
    "        self.nodos_generados = 0\n",
    "        self.nodos_explorados = 0\n",
    "        self.nodos_expandidos = 0\n",
    "        #self.prof_max = 0\n",
    "        \n",
    "    @abstractmethod\n",
    "    def crear_frontera(self):\n",
    "        pass\n",
    "\n",
    "    @abstractmethod\n",
    "    def agregar_a_frontera(self, nodo, coste=0):\n",
    "        pass\n",
    "\n",
    "    @abstractmethod\n",
    "    def obtener_de_frontera(self):\n",
    "        pass\n",
    "    @abstractmethod\n",
    "    def comprobar_vacia(self):\n",
    "        pass\n",
    "\n",
    "    def ejecutar(self):\n",
    "        inicio = time.time()\n",
    "        self.cerrados.clear()\n",
    "        self.frontera = self.crear_frontera()\n",
    "        self.agregar_a_frontera(Nodo(self.problema.estado_inicial)) \n",
    "        #print(self.prof_max)\n",
    "        \n",
    "\n",
    "        while not self.comprobar_vacia(): \n",
    "            nodo = self.obtener_de_frontera() \n",
    "            #print(nodo)\n",
    "            self.nodos_explorados += 1\n",
    "\n",
    "            if self.problema.es_objetivo(nodo.estado):\n",
    "                fin = time.time()\n",
    "                print(f'Nodos generados:{self.nodos_generados},Tiempo:{fin-inicio},Nodos expandidos: {self.nodos_expandidos}')\n",
    "                return self.reconstruir_camino(nodo)\n",
    "                #return time.strftime(\"%H:%M:%S\", time.gmtime(nodo.coste))\n",
    "                \n",
    "\n",
    "            if nodo.estado not in self.cerrados:\n",
    "                self.cerrados.add(nodo.estado)\n",
    "                self.nodos_expandidos += 1\n",
    "                #if nodo.profundidad == self.prof_max: #####################Preguntar por esto\n",
    "                # print(\"Está dentro\")\n",
    "                #else: \n",
    "                for s in self.expandir(nodo):\n",
    "                    self.agregar_a_frontera(s)\n",
    "                    self.nodos_generados+= 1             \n",
    "        return 3600*5        \n",
    "            \n",
    "    def expandir(self, nodo):\n",
    "        x =[]\n",
    "        #poner un if antes del while, para comprobar el key error\n",
    "        if nodo.estado.identifier not in self.problema.acciones:\n",
    "            return x\n",
    "        for accion in self.problema.acciones[nodo.estado.identifier]: #MÁS TARDE SERÁ CON ESTE FOR\n",
    "            estado = self.problema.estados[accion.destination]\n",
    "            hijo = Nodo(estado, nodo, accion)\n",
    "            x.append(hijo)\n",
    "        return x\n",
    "\n",
    "                    \n",
    "       \n",
    "\n",
    "    def reconstruir_camino(self, nodo):  #para dar la solución debemos reconstruir el camino,CAMBIAR,PONER DIRECTAMENTE PRINCIPIO (???)\n",
    "        camino = []\n",
    "        print(f'Coste solución: {time.strftime(\"%H:%M:%S\", time.gmtime(nodo.coste))}')\n",
    "        while nodo.padre:\n",
    "            camino.insert(0, nodo.estado.identifier)\n",
    "            nodo = nodo.padre\n",
    "        camino.insert(0, nodo.estado.identifier)\n",
    "        print(len(camino))\n",
    "        return list(camino)\n",
    "\n",
    "def heuristica(estado, problema):\n",
    "    actual = problema.estados[estado.identifier]\n",
    "    objetivo = problema.estados[problema.estado_objetivo.identifier]\n",
    "    x1, y1 = actual.latitude, actual.longitude\n",
    "    x2, y2 = objetivo.latitude, objetivo.longitude\n",
    "    distancia = math.sqrt((x2 - x1)**2 + (y2 - y1)**2)\n",
    "    return distancia / problema.contador_speed"
   ],
   "outputs": [],
   "execution_count": 5
  },
  {
   "cell_type": "code",
   "metadata": {
    "ExecuteTime": {
     "end_time": "2025-07-05T17:27:05.275743Z",
     "start_time": "2025-07-05T17:27:05.270329Z"
    }
   },
   "source": [
    "class BusquedaAnchura(AlgoritmoBusqueda): #FIFO\n",
    "    def crear_frontera(self):\n",
    "        return deque()\n",
    "\n",
    "    def comprobar_vacia(self):\n",
    "        return len(self.frontera) == 0 #buscar para ver si es vacia\n",
    "\n",
    "    def agregar_a_frontera(self, nodo):\n",
    "        self.frontera.append(nodo)\n",
    "\n",
    "    def obtener_de_frontera(self):\n",
    "        return self.frontera.popleft()"
   ],
   "outputs": [],
   "execution_count": 6
  },
  {
   "cell_type": "code",
   "metadata": {
    "ExecuteTime": {
     "end_time": "2025-07-05T17:27:05.300348Z",
     "start_time": "2025-07-05T17:27:05.295818Z"
    }
   },
   "source": [
    "class BusquedaProfundidad(AlgoritmoBusqueda): #LIFO\n",
    "    def crear_frontera(self):\n",
    "        return []\n",
    "        \n",
    "    def comprobar_vacia(self):\n",
    "        return len(self.frontera)==0\n",
    "        \n",
    "    def agregar_a_frontera(self, nodo):\n",
    "        self.frontera.append(nodo)\n",
    "\n",
    "    def obtener_de_frontera(self):\n",
    "        return self.frontera.pop()"
   ],
   "outputs": [],
   "execution_count": 7
  },
  {
   "cell_type": "code",
   "metadata": {
    "ExecuteTime": {
     "end_time": "2025-07-05T17:27:05.325993Z",
     "start_time": "2025-07-05T17:27:05.319724Z"
    }
   },
   "source": [
    "class BusquedaProfundidadLimitada(AlgoritmoBusqueda): #LIFO pero con profundidad máx indicada\n",
    "    def __init__(self, problema, l):\n",
    "        super().__init__(problema)\n",
    "        self.l=l\n",
    "\n",
    "    def crear_frontera(self):\n",
    "        return []\n",
    "        \n",
    "    def comprobar_vacia(self):\n",
    "        return len(self.frontera)==0\n",
    "        \n",
    "    def agregar_a_frontera(self, nodo):\n",
    "        if nodo.profundidad <= self.l:\n",
    "            self.frontera.append(nodo)\n",
    "        \n",
    "    def obtener_de_frontera(self):\n",
    "        return self.frontera.pop()"
   ],
   "outputs": [],
   "execution_count": 8
  },
  {
   "cell_type": "code",
   "metadata": {
    "ExecuteTime": {
     "end_time": "2025-07-05T17:27:05.354421Z",
     "start_time": "2025-07-05T17:27:05.349002Z"
    }
   },
   "source": [
    "class BusquedaProfundidadIterada(): #LIFO pero con profund iterada\n",
    "    def ejecutar(self, problema):\n",
    "        l = 0\n",
    "        while True:\n",
    "            busqueda_ldfs = BusquedaProfundidadLimitada(problema, l)\n",
    "            resultado_ldfs = busqueda_ldfs.ejecutar()\n",
    "            if resultado_ldfs != 3600*5:\n",
    "                return resultado_ldfs\n",
    "            l +=1"
   ],
   "outputs": [],
   "execution_count": 9
  },
  {
   "cell_type": "code",
   "metadata": {
    "ExecuteTime": {
     "end_time": "2025-07-05T17:27:05.380806Z",
     "start_time": "2025-07-05T17:27:05.374881Z"
    }
   },
   "source": [
    "class BusquedaPrimeroMejor(AlgoritmoBusqueda): #Heurística nos da la prioridad, falta el LT \n",
    "    def crear_frontera(self):\n",
    "        return PriorityQueue()\n",
    "        \n",
    "    def comprobar_vacia(self):\n",
    "        return self.frontera.empty()\n",
    "        \n",
    "    def agregar_a_frontera(self, nodo):#hay algo que no va bien\n",
    "        #valor_heuristica = heuristica(nodo.estado) + valor_heuristica\n",
    "        self.frontera.put((heuristica(nodo.estado, self.problema), nodo))\n",
    "\n",
    "    def obtener_de_frontera(self):\n",
    "        return self.frontera.get()[1]"
   ],
   "outputs": [],
   "execution_count": 10
  },
  {
   "cell_type": "code",
   "metadata": {
    "ExecuteTime": {
     "end_time": "2025-07-05T17:27:05.413548Z",
     "start_time": "2025-07-05T17:27:05.407562Z"
    }
   },
   "source": [
    "class BusquedaAEstrella(AlgoritmoBusqueda): #nos guiamos por la heurística y coste acumulado,USAR METODO DE ARRIBA(CALCULAR COSTE)\n",
    "    def crear_frontera(self):\n",
    "        return PriorityQueue()\n",
    "\n",
    "    def comprobar_vacia(self):\n",
    "        return self.frontera.empty()\n",
    "\n",
    "    def agregar_a_frontera(self, nodo):\n",
    "        coste_acumulado = nodo.coste + heuristica(nodo.estado, self.problema)\n",
    "        self.frontera.put((coste_acumulado, nodo))\n",
    "\n",
    "    def obtener_de_frontera(self):\n",
    "        return self.frontera.get()[1]"
   ],
   "outputs": [],
   "execution_count": 11
  },
  {
   "cell_type": "code",
   "metadata": {
    "ExecuteTime": {
     "end_time": "2025-07-05T17:27:05.560154Z",
     "start_time": "2025-07-05T17:27:05.442159Z"
    }
   },
   "source": [
    "problema = Problema('problems/huge/calle_agustina_aroca_albacete_5000_0.json')\n",
    "\n",
    "# Ejecución de cada algoritmo de búsqueda\n",
    "busqueda_bfs = BusquedaAnchura(problema)\n",
    "resultado_bfs = busqueda_bfs.ejecutar()\n",
    "print(\"Resultado BFS:\", resultado_bfs)\n",
    "\n",
    "busqueda_dfs = BusquedaProfundidad(problema)\n",
    "resultado_dfs = busqueda_dfs.ejecutar()\n",
    "print(\"Resultado DFS:\", resultado_dfs)\n",
    "\n",
    "busqueda_ldfs = BusquedaProfundidadLimitada(problema, 20)\n",
    "resultado_ldfs = busqueda_ldfs.ejecutar()\n",
    "print(\"Resultado LDFS:\", resultado_ldfs)\n",
    "\n",
    "busqueda_idfs = BusquedaProfundidadIterada()\n",
    "resultado_idfs = busqueda_idfs.ejecutar(problema)\n",
    "print(\"Resultado IDFS:\", resultado_idfs)\n",
    "\n",
    "busqueda_primero_mejor = BusquedaPrimeroMejor(problema)\n",
    "resultado_primero_mejor = busqueda_primero_mejor.ejecutar()\n",
    "print(\"Resultado Primero el Mejor:\", resultado_primero_mejor)\n",
    "\n",
    "busqueda_a_estrella = BusquedaAEstrella(problema)\n",
    "resultado_a_estrella = busqueda_a_estrella.ejecutar()\n",
    "print(\"Resultado A*:\", resultado_a_estrella)\n"
   ],
   "outputs": [
    {
     "name": "stdout",
     "output_type": "stream",
     "text": [
      "Nodos generados:1466,Tiempo:0.0020029544830322266,Nodos expandidos: 731\n",
      "Coste solución: 00:06:05\n",
      "33\n",
      "Resultado BFS: [1540051673, 1540051664, 1526221438, 1396800476, 1396800400, 1526658921, 1526658962, 1396800396, 1396800453, 1396800406, 359881802, 1396800416, 444450205, 1533701521, 1561396076, 444448781, 444448782, 444448783, 1578691712, 444448785, 4221332639, 9517864886, 4221332624, 5062426403, 4221332646, 5062426404, 1565984502, 1565984515, 1566006620, 1565984514, 1565984484, 1531101600, 1565984499]\n",
      "Nodos generados:331,Tiempo:0.0,Nodos expandidos: 160\n",
      "Coste solución: 00:21:42\n",
      "142\n",
      "Resultado DFS: [1540051673, 1990894635, 1530764262, 1526257441, 1526257448, 1526257452, 1540051678, 1540051670, 1540051661, 1526221501, 1526221429, 1526221438, 1396800476, 1396800400, 1526658921, 1526658962, 1526221485, 1674847662, 1526221497, 1526221449, 1526221507, 2383148353, 1526221498, 1529623334, 1530763847, 1530764289, 1529623297, 1566996115, 1526221480, 1529476050, 1533690235, 1530815096, 1530815402, 4582722294, 528691752, 528691638, 1396800396, 1396800453, 1396800406, 1396800403, 1396800422, 359992331, 359991667, 359991672, 1533690307, 344495530, 1526193067, 1736125766, 1736125755, 1530913371, 1526193113, 957166323, 442882995, 442882996, 1529202076, 1526728391, 1266037419, 957150995, 1266037414, 499274652, 957151014, 1529623269, 1526728308, 1526728400, 1526728361, 4576814617, 344736237, 1529202049, 1529623352, 1526728370, 1560166290, 1526728410, 1526728304, 1526728377, 1529623303, 1529623313, 499274675, 1573048065, 6296438171, 621983933, 1531659796, 1256026659, 1256026663, 1983117780, 1528823328, 1984210179, 1322980462, 1322977385, 1628459226, 434014588, 621979238, 1266037410, 1528823322, 1529202023, 1526705382, 1531659768, 335606022, 333720921, 335606021, 335606026, 335606025, 539837920, 1836678895, 1836678891, 332441491, 1835353337, 1530704881, 1530897746, 1530897531, 1530897562, 1530704637, 1526752558, 1835353359, 551594220, 1835353351, 1835353386, 1635557952, 1736073025, 1530897652, 1529202095, 1628459221, 1992568962, 1992568957, 551594177, 1835353332, 1835353363, 551594149, 551594146, 1531673369, 1531673357, 1529475079, 1526752604, 1529475076, 1526752562, 1534470825, 1534470824, 1531673363, 1529475053, 1529475061, 1529475062, 1531101600, 1565984499]\n",
      "Resultado LDFS: 18000\n",
      "Nodos generados:698,Tiempo:0.001001596450805664,Nodos expandidos: 345\n",
      "Coste solución: 00:15:59\n",
      "81\n",
      "Resultado IDFS: [1540051673, 1990894635, 1530764262, 1526257441, 1526257448, 1526257452, 1540051678, 1540051670, 1540051661, 1526221501, 1526221429, 1526221438, 1396800476, 1396800400, 1526658921, 1526658962, 1526221485, 1674847662, 1526221497, 1526221449, 1526221507, 2383148353, 1526221498, 1529623334, 1530763847, 1530764289, 1529623297, 1566996115, 1526221480, 1529476050, 1533690235, 1530815096, 1530815402, 4582722294, 528691752, 528691638, 1396800396, 1396800453, 1396800406, 359881802, 1396800416, 444450205, 1533701521, 1561396076, 1529475501, 1798132267, 1533701585, 1533701491, 1533701497, 1533701502, 1533701466, 1533701484, 1533701566, 1529475465, 1533701512, 1529475457, 1578691610, 2028804164, 2028804172, 2028804152, 2028804167, 2028804161, 1530850358, 1530850331, 1530850409, 1836682479, 1578691712, 444448785, 4221332639, 9517864886, 4221332624, 5062426403, 4221332646, 5062426404, 1565984502, 1565984515, 1566006620, 1565984514, 1565984484, 1531101600, 1565984499]\n",
      "Nodos generados:124,Tiempo:0.0010075569152832031,Nodos expandidos: 66\n",
      "Coste solución: 00:07:25\n",
      "56\n",
      "Resultado Primero el Mejor: [1540051673, 1990894635, 1526257446, 1540051678, 1529623306, 1526221498, 2383148353, 2383148352, 1526221439, 1526658921, 1526658962, 1396800396, 1396800453, 1396800403, 1396800422, 359992331, 359991667, 359991672, 1533690307, 344495530, 344495531, 344495532, 957166323, 442882995, 442882996, 1529202076, 1266037412, 4576814617, 344736237, 1529202049, 1529202087, 3720329437, 3720329440, 3721441045, 1529202090, 1529202053, 1256026630, 344736241, 335606024, 4582722295, 335606022, 333720921, 335606021, 335606026, 335606025, 539837920, 1530704637, 1530897562, 1526752638, 1526752601, 1526752631, 1526752640, 1526752502, 1643327716, 332441495, 1565984499]\n",
      "Nodos generados:2065,Tiempo:0.007988929748535156,Nodos expandidos: 1039\n",
      "Coste solución: 00:05:56\n",
      "56\n",
      "Resultado A*: [1540051673, 1990894635, 1530764262, 1526257441, 1526221518, 1529476077, 1529476057, 1529623355, 1529476050, 1526221480, 344738924, 344734734, 344734742, 344734744, 344734745, 430169076, 1530815533, 1530143684, 1396800459, 359991667, 359991672, 1533690307, 344495530, 344495531, 344495532, 957166323, 442882995, 442882996, 1529202076, 1266037412, 4576814617, 344736237, 1529202049, 1529202087, 3720329437, 3720329440, 3721441045, 1529202090, 1529202053, 1256026630, 344736241, 335606024, 4582722295, 335606022, 333720921, 335606021, 335606026, 335606025, 539837920, 1836678895, 1836678891, 332441491, 1835353337, 1530704741, 332441495, 1565984499]\n"
     ]
    }
   ],
   "execution_count": 12
  },
  {
   "cell_type": "markdown",
   "metadata": {
    "datalore": {
     "hide_input_from_viewers": false,
     "hide_output_from_viewers": false,
     "node_id": "6q3uoKPoKLFZnX2wHpx2mu",
     "type": "MD"
    }
   },
   "source": [
    "### 4.6. Estudio y mejora de los algoritmos\n",
    "\n",
    "Una vez implementados los algoritmos, se deberá realizar un estudio su rendimiento. Para ello, se deberá comparar la calidad de las soluciones obtenidas, así como el número de nodos expandidos para instancias de diferentes tamaños. Factores como el tamaño máximo de problema que se puede resolver sin que haya desbordamiento de memoria, o el efecto de utilizar escenarios más complejos, también son importantes. Además, se pueden proponer implementaciones alternativas que aumenten la eficiencia de los algoritmos."
   ]
  },
  {
   "cell_type": "markdown",
   "metadata": {
    "datalore": {
     "hide_input_from_viewers": false,
     "hide_output_from_viewers": false,
     "node_id": "TN8nQpEQOYIQynu67Jy1ln",
     "type": "MD"
    },
    "jp-MarkdownHeadingCollapsed": true
   },
   "source": [
    "### 4.7. Informe\n",
    "\n",
    "Además del cuaderno que contiene la implementación, el trabajo consiste en elaborar un informe, que tendrá una fecha de entrega posterior, pero que recomendamos que se realice a la vez que se desarrolle la práctica, tanto para el código como para la parte de estudio y mejora de los algoritmos.\n",
    "\n",
    "En particular, entre otros temas que se consideren de interés mencionar, en informe deberá incluir como mínimo:\n",
    "\n",
    "* Una breve descripción del problema, una descripción de la implementación, la evaluación del rendimiento y la descripción de las mejoras, si existen.\n",
    "\n",
    "* La formalización del problema.\n",
    "\n",
    "* Para algoritmos de búsqueda informados se deben proporcionar al menos dos heurísticas. Además de su descripción y motivación, se deberá incluir un análisis que indique si la heurística propuesta se considera admisible y consistente.\n",
    "\n",
    "* El estudio del rendimiento de los algoritmos implementados debe basarse en probar los algoritmos en varias instancias, presentando tablas o gráficos que resuman los resultados.\n",
    "\n",
    "**El informe no debe incluir figuras con código fuente**, a menos que sea necesario para explicar algún concepto clave como estructuras de datos, mejoras en eficiencia, etc. En tales casos, se permite incluir pseudocódigo con el formato adecuado.\n",
    "\n",
    "**Tampoco es recomendable incluir capturas de pantalla**."
   ]
  },
  {
   "cell_type": "markdown",
   "metadata": {
    "datalore": {
     "hide_input_from_viewers": false,
     "hide_output_from_viewers": false,
     "node_id": "Tinwe1v9Wx9ZaC9NcMPB1a",
     "type": "MD"
    }
   },
   "source": [
    "## 5. Presentación y evaluación\n",
    "\n",
    "Es muy recomendable realizar el trabajo por parejas, aunque se puede realizar de forma individual. El examen o entrevistas para la evaluación se realizarán la semana siguiente a la entrefa, y siempre de forma individual.\n",
    "\n",
    "Algunas consideraciones relacionadas con la evaluación:\n",
    "\n",
    "* Esta práctica cuenta un 40% de la nota de laboratorio. La segunda práctica necesitará la resolución previa de esta parte y cuenta un 60%.\n",
    "\n",
    "* La asistencia a las prácticas no es obligatoria, pero será la mejor base para resolver con éxito las prácticas.\n",
    "\n",
    "* Recordad que las dudas y preguntas sobre las prácticas de laboratorio deben resolverse principalmente en las sesiones de laboratorio.\n",
    "\n",
    "* Proporcionaremos un conjunto de casos de prueba preliminares que deben resolverse correctamente. En caso contrario, el trabajo se considerará no apto para su presentación.\n",
    "\n",
    "* Para obtener una puntuación en el práctica tendrás que responder, de forma individual, a una serie de preguntas sobre la organización del código y sobre cuestiones relacionadas.\n",
    "\n",
    "* **En la evaluación no continua se requerirá la implementación de las mismas estrategias de búsqueda más**:\n",
    "    * Búsqueda en profundidad limitada\n",
    "    * Búsqueda en profundidad iterativa\n",
    "    \n",
    "    ***También se pueden requerir características adicionales**."
   ]
  },
  {
   "cell_type": "code",
   "metadata": {
    "ExecuteTime": {
     "end_time": "2025-07-05T17:27:05.577837Z",
     "start_time": "2025-07-05T17:27:05.574668Z"
    }
   },
   "source": [],
   "outputs": [],
   "execution_count": null
  }
 ],
 "metadata": {
  "datalore": {
   "base_environment": "default",
   "computation_mode": "JUPYTER",
   "package_manager": "pip",
   "packages": [
    {
     "name": "pqueue",
     "source": "PIP",
     "version": "0.1.7"
    },
    {
     "name": "geopy",
     "source": "PIP",
     "version": "2.2.0"
    }
   ],
   "version": 1
  },
  "kernelspec": {
   "display_name": "Python 3",
   "language": "python",
   "name": "python3"
  },
  "language_info": {
   "codemirror_mode": {
    "name": "ipython",
    "version": 3
   },
   "file_extension": ".py",
   "mimetype": "text/x-python",
   "name": "python",
   "nbconvert_exporter": "python",
   "pygments_lexer": "ipython3",
   "version": "3.9.5"
  },
  "latex_envs": {
   "LaTeX_envs_menu_present": true,
   "autoclose": false,
   "autocomplete": true,
   "bibliofile": "biblio.bib",
   "cite_by": "apalike",
   "current_citInitial": 1,
   "eqLabelWithNumbers": true,
   "eqNumInitial": 1,
   "hotkeys": {
    "equation": "Ctrl-E",
    "itemize": "Ctrl-I"
   },
   "labels_anchors": false,
   "latex_user_defs": false,
   "report_style_numbering": false,
   "user_envs_cfg": false
  }
 },
 "nbformat": 4,
 "nbformat_minor": 4
}
